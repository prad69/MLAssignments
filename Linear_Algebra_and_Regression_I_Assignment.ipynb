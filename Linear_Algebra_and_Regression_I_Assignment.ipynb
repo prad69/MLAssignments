{
  "nbformat": 4,
  "nbformat_minor": 0,
  "metadata": {
    "colab": {
      "provenance": [],
      "authorship_tag": "ABX9TyMUOQHWp2XM8YFuKEaaHL/P",
      "include_colab_link": true
    },
    "kernelspec": {
      "name": "python3",
      "display_name": "Python 3"
    },
    "language_info": {
      "name": "python"
    }
  },
  "cells": [
    {
      "cell_type": "markdown",
      "metadata": {
        "id": "view-in-github",
        "colab_type": "text"
      },
      "source": [
        "<a href=\"https://colab.research.google.com/github/prad69/MLAssignments/blob/main/Linear_Algebra_and_Regression_I_Assignment.ipynb\" target=\"_parent\"><img src=\"https://colab.research.google.com/assets/colab-badge.svg\" alt=\"Open In Colab\"/></a>"
      ]
    },
    {
      "cell_type": "markdown",
      "source": [],
      "metadata": {
        "id": "k51oBRqZZC8o"
      }
    },
    {
      "cell_type": "code",
      "execution_count": null,
      "metadata": {
        "colab": {
          "base_uri": "https://localhost:8080/"
        },
        "id": "LMhd_okuXITE",
        "outputId": "d4b7d463-0374-4037-8de4-22388b503bd7"
      },
      "outputs": [
        {
          "output_type": "stream",
          "name": "stdout",
          "text": [
            "Eigen Value [-0.37228132  5.37228132]\n",
            "Eigen Vector (array([-0.37228132,  5.37228132]), array([[-0.82456484, -0.41597356],\n",
            "       [ 0.56576746, -0.90937671]]))\n"
          ]
        }
      ],
      "source": [
        " # Write a Python function that takes a square matrix A as input and returns its eigenvalues and eigenvectors.\n",
        "\n",
        "import numpy as np\n",
        "\n",
        "\n",
        "def eigenFunction(x):\n",
        "  EigenVal = np.linalg.eigvals(x)\n",
        "  EigenVec = np.linalg.eig(x)\n",
        "  return EigenVal,EigenVec\n",
        "\n",
        "A = [[1,2],[3,4]]\n",
        "\n",
        "y ,z  = eigenFunction(A)\n",
        "print(f\"Eigen Value\",y)\n",
        "print(f\"Eigen Vector\",z)\n",
        "\n"
      ]
    },
    {
      "cell_type": "code",
      "source": [
        "# Write a program which takes 2 arrays and returns the dot product without using NumPy\n",
        "\n",
        "def element_wise_product(arr1, arr2):\n",
        "    if len(arr1) != len(arr2):\n",
        "        return \"Error: arrays must have same length\"\n",
        "    result = []\n",
        "    for i in range(len(arr1)):\n",
        "        result.append(arr1[i] * arr2[i])\n",
        "    return result\n",
        "\n",
        "arr1 = [1, 2, 3]\n",
        "arr2 = [4, 5, 6]\n",
        "result = element_wise_product(arr1, arr2)\n",
        "print(result) # Output: [4, 10, 18]\n"
      ],
      "metadata": {
        "id": "JncJnvN4eTw2",
        "colab": {
          "base_uri": "https://localhost:8080/"
        },
        "outputId": "2a6c579a-1740-414f-e20d-36040c190757"
      },
      "execution_count": null,
      "outputs": [
        {
          "output_type": "stream",
          "name": "stdout",
          "text": [
            "[4, 10, 18]\n"
          ]
        }
      ]
    },
    {
      "cell_type": "code",
      "source": [
        "#Q3) Write a Python function to calculate the determinant of a n by n matrix without using Python package\n",
        "\n"
      ],
      "metadata": {
        "id": "d7n3p74Hfv2U"
      },
      "execution_count": null,
      "outputs": []
    },
    {
      "cell_type": "code",
      "source": [
        "import copy\n",
        "\n",
        "def submatrix(a, n):\n",
        "    arr = copy.deepcopy(a)\n",
        "    if len(arr) == 2:\n",
        "        return arr\n",
        "    else:\n",
        "        arr.pop(0)\n",
        "        for j in arr:\n",
        "            j.pop(n)\n",
        "\n",
        "        return arr"
      ],
      "metadata": {
        "id": "OitgvjKkJ4qL"
      },
      "execution_count": null,
      "outputs": []
    },
    {
      "cell_type": "code",
      "source": [
        "def determinant(a):#FUNCTION TO FIND THE DETERMINANT OF A MATRIX\n",
        "    if len(a) == 1:\n",
        "        det = a[0]\n",
        "    elif len(a) == 2:\n",
        "        det = a[0][0]*a[1][1] - a[1][0]*a[0][1]\n",
        "    else:\n",
        "        det = 0\n",
        "        for i in range(len(a[0])):\n",
        "            det += ((-1)**i)*a[0][i]*determinant(submatrix(a,i))\n",
        "    return det"
      ],
      "metadata": {
        "id": "R72qCKZWKALG"
      },
      "execution_count": null,
      "outputs": []
    },
    {
      "cell_type": "code",
      "source": [
        "A = [2]\n",
        "B = [[1,2,4],[3,4,7],[5,6,7]]\n",
        "C = [[1,2,3,4],[4,3,5,6],[8,4,2,1],[3,2,4,1]]\n",
        "D = [[1,3,5,7,9],[4,6,3,7,5],[5,10,8,3,1],[1,5,3,7,6],[8,1,7,5,8]]\n",
        "print(\"The determinant of A --> \",determinant(A))\n",
        "print(\"The determinant of B --> \",determinant(B))\n",
        "print(\"The determinant of C --> \",determinant(C))\n",
        "print(\"The determinant of D --> \",determinant(D))"
      ],
      "metadata": {
        "colab": {
          "base_uri": "https://localhost:8080/"
        },
        "id": "amacuFnlKEie",
        "outputId": "ba11c3da-e7c6-4a75-ce1b-729f957dd3da"
      },
      "execution_count": null,
      "outputs": [
        {
          "output_type": "stream",
          "name": "stdout",
          "text": [
            "The determinant of A -->  2\n",
            "The determinant of B -->  6\n",
            "The determinant of C -->  -99\n",
            "The determinant of D -->  -687\n"
          ]
        }
      ]
    },
    {
      "cell_type": "code",
      "source": [
        "#Q4) Write a Python function to calculate the rank of a matrix without using Python package\n",
        "\n",
        "def swapRows(a,row1,row2):\n",
        "    a[row2],a[row1]=a[row1],a[row2]\n",
        "    return a\n",
        "\n",
        "def Row_Transformation(a,x,row1,row2):\n",
        "    for i in range(len(a[row2])):\n",
        "                a[row2][i]+=a[row1][i]*x\n",
        "    return a\n",
        "\n",
        "def MatrixRank(a):\n",
        "\n",
        "    ncol=len(a[0])\n",
        "    nrow=len(a)\n",
        "    rank=min(ncol,nrow)\n",
        "\n",
        "    if nrow>ncol:\n",
        "        b=[]\n",
        "        for m in range(ncol):\n",
        "            l=[]\n",
        "            for n in range(nrow):\n",
        "                l.append(a[n][m])\n",
        "            b.append(l)\n",
        "        a=b\n",
        "        ncol,nrow=nrow,ncol\n",
        "\n",
        "    for r in range(rank):\n",
        "        if a[r][r]!=0:\n",
        "            for j in range(r+1,nrow):\n",
        "                a=Row_Transformation(a,-(a[j][r]//a[r][r]),r,j)\n",
        "        else:\n",
        "            count1=True\n",
        "            for k in range(r+1,nrow):\n",
        "                if a[k][r]!=0:\n",
        "                    a=swapRows(a,r,k)\n",
        "                    count1=False\n",
        "                    break\n",
        "\n",
        "            if count1:\n",
        "                for i in range(nrow):\n",
        "                    a[i][r],a[i][rank-1]=a[i][rank-1],a[i][r]\n",
        "            nrow-=1\n",
        "\n",
        "\n",
        "        count2=0\n",
        "        for i in a:\n",
        "            if i==[0]*ncol:\n",
        "                count2+=1\n",
        "\n",
        "        return (rank-count2)\n",
        "\n",
        "\n",
        "array = [[10,20,10],\n",
        "        [20,40,20],\n",
        "        [30,50,0]]\n",
        "\n",
        "MatrixRank(array)"
      ],
      "metadata": {
        "colab": {
          "base_uri": "https://localhost:8080/"
        },
        "id": "MQ1GfD7LfyRH",
        "outputId": "3be59690-e153-43ba-ecd8-fa4a21a1ed59"
      },
      "execution_count": null,
      "outputs": [
        {
          "output_type": "execute_result",
          "data": {
            "text/plain": [
              "2"
            ]
          },
          "metadata": {},
          "execution_count": 3
        }
      ]
    }
  ]
}