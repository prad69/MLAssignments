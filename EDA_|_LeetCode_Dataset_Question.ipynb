{
  "nbformat": 4,
  "nbformat_minor": 0,
  "metadata": {
    "colab": {
      "provenance": [],
      "include_colab_link": true
    },
    "kernelspec": {
      "name": "python3",
      "display_name": "Python 3"
    },
    "language_info": {
      "name": "python"
    }
  },
  "cells": [
    {
      "cell_type": "markdown",
      "metadata": {
        "id": "view-in-github",
        "colab_type": "text"
      },
      "source": [
        "<a href=\"https://colab.research.google.com/github/prad69/MLAssignments/blob/main/EDA_%7C_LeetCode_Dataset_Question.ipynb\" target=\"_parent\"><img src=\"https://colab.research.google.com/assets/colab-badge.svg\" alt=\"Open In Colab\"/></a>"
      ]
    },
    {
      "cell_type": "markdown",
      "source": [
        "##LeetCode DataSet\n",
        "It contains the following info:\n",
        "\n",
        "**id**: problem id **title**: problem name\n",
        "**description**: problem description\n",
        "**is_premium**: whether the questions requires a premium account\n",
        "**difficulty**: easy, medium, or hard\n",
        "**solution_link**: how often the answer submitted is correct\n",
        "**acceptance_rate**: how often the answer submitted is correct\n",
        "**frequency**: how often the problem is attempted\n",
        "**url**: url to the problem\n",
        "**discuss_count**: how many comments are submitted by users\n",
        "**accepted**: how many times the answer was accepted\n",
        "**submissions**: how many times the answer was submitted\n",
        "**companies**: which companies were tagged as having asked this specific problem\n",
        "**related_topics**: related topics to the current problem\n",
        "**likes**: how many likes the problem got\n",
        "**dislikes**: how many dislikes the problem got\n",
        "**rating**: likes / (likes + dislikes)\n",
        "**asked_by_faang**: whether or not the question was asked by facebook, apple, amazon, google, or netflix\n",
        "**similar_questions**: similar problems with problem name, slug, and difficulty\n"
      ],
      "metadata": {
        "id": "c59oAsR5UvVT"
      }
    },
    {
      "cell_type": "code",
      "source": [
        "import pandas as pd\n",
        "#from pandas import read_csv as csvreader\n",
        "#from pandas import read_csv\n",
        "import os\n",
        "from google.colab import drive\n",
        "drive.mount(\"/content/drive\")\n",
        "data_path = \"/content/drive/MyDrive/Colab Notebooks/datasets/leetcode_dataset.csv\"\n",
        "\n",
        "dataset = pd.read_csv(data_path)\n",
        "dataset.head"
      ],
      "metadata": {
        "colab": {
          "base_uri": "https://localhost:8080/"
        },
        "id": "hHvigxb6-y6A",
        "outputId": "3286a777-7fed-48e9-c58b-15083f5c371e"
      },
      "execution_count": 2,
      "outputs": [
        {
          "output_type": "stream",
          "name": "stdout",
          "text": [
            "Mounted at /content/drive\n"
          ]
        },
        {
          "output_type": "execute_result",
          "data": {
            "text/plain": [
              "<bound method NDFrame.head of         id                                           title  \\\n",
              "0        1                                         Two Sum   \n",
              "1        2                                 Add Two Numbers   \n",
              "2        3  Longest Substring Without Repeating Characters   \n",
              "3        4                     Median of Two Sorted Arrays   \n",
              "4        5                   Longest Palindromic Substring   \n",
              "...    ...                                             ...   \n",
              "1820  1821  Find Customers With Positive Revenue this Year   \n",
              "1821  1822                 Sign of the Product of an Array   \n",
              "1822  1823            Find the Winner of the Circular Game   \n",
              "1823  1824                           Minimum Sideway Jumps   \n",
              "1824  1825                              Finding MK Average   \n",
              "\n",
              "                                            description  is_premium  \\\n",
              "0     Given an array of integers `nums` and an integ...           0   \n",
              "1     You are given two non-empty linked lists repre...           0   \n",
              "2     Given a string `s`, find the length of the lon...           0   \n",
              "3     Given two sorted arrays `nums1` and `nums2` of...           0   \n",
              "4     Given a string `s`, return the longest palindr...           0   \n",
              "...                                                 ...         ...   \n",
              "1820                                         SQL Schema           1   \n",
              "1821  There is a function `signFunc(x)` that returns...           0   \n",
              "1822  There are `n` friends that are playing a game....           0   \n",
              "1823  There is a 3 lane road of length `n` that cons...           0   \n",
              "1824  You are given two integers, `m` and `k`, and a...           0   \n",
              "\n",
              "     difficulty                                      solution_link  \\\n",
              "0          Easy                                  /articles/two-sum   \n",
              "1        Medium                          /articles/add-two-numbers   \n",
              "2        Medium  /articles/longest-substring-without-repeating-...   \n",
              "3          Hard              /articles/median-of-two-sorted-arrays   \n",
              "4        Medium            /articles/longest-palindromic-substring   \n",
              "...         ...                                                ...   \n",
              "1820       Easy                                                NaN   \n",
              "1821       Easy                                                NaN   \n",
              "1822     Medium                                                NaN   \n",
              "1823     Medium                                                NaN   \n",
              "1824       Hard                                                NaN   \n",
              "\n",
              "      acceptance_rate  frequency  \\\n",
              "0                46.7      100.0   \n",
              "1                35.7       93.1   \n",
              "2                31.5       90.9   \n",
              "3                31.4       86.2   \n",
              "4                30.6       84.7   \n",
              "...               ...        ...   \n",
              "1820             88.9        0.0   \n",
              "1821             67.8        0.0   \n",
              "1822             71.8        0.0   \n",
              "1823             47.2        0.0   \n",
              "1824             28.1        0.0   \n",
              "\n",
              "                                                    url  discuss_count  \\\n",
              "0                 https://leetcode.com/problems/two-sum            999   \n",
              "1         https://leetcode.com/problems/add-two-numbers            999   \n",
              "2     https://leetcode.com/problems/longest-substrin...            999   \n",
              "3     https://leetcode.com/problems/median-of-two-so...            999   \n",
              "4     https://leetcode.com/problems/longest-palindro...            999   \n",
              "...                                                 ...            ...   \n",
              "1820  https://leetcode.com/problems/find-customers-w...             15   \n",
              "1821  https://leetcode.com/problems/sign-of-the-prod...            104   \n",
              "1822  https://leetcode.com/problems/find-the-winner-...            135   \n",
              "1823  https://leetcode.com/problems/minimum-sideway-...            134   \n",
              "1824   https://leetcode.com/problems/finding-mk-average             48   \n",
              "\n",
              "     accepted submissions                                          companies  \\\n",
              "0        4.1M        8.7M  Amazon,Google,Apple,Adobe,Microsoft,Bloomberg,...   \n",
              "1        1.9M        5.2M  Bloomberg,Microsoft,Amazon,Google,Facebook,App...   \n",
              "2        2.1M        6.7M  Amazon,Bloomberg,Microsoft,Facebook,Apple,Adob...   \n",
              "3      904.7K        2.9M  Amazon,Goldman Sachs,Facebook,Microsoft,Apple,...   \n",
              "4        1.3M        4.1M  Amazon,Microsoft,Wayfair,Facebook,Adobe,eBay,G...   \n",
              "...       ...         ...                                                ...   \n",
              "1820      305         343                                             Google   \n",
              "1821     7.9K       11.7K                                          Microsoft   \n",
              "1822     6.8K        9.5K                                          Bloomberg   \n",
              "1823       5K       10.7K                                            Pony.ai   \n",
              "1824     2.1K        7.4K                                             Google   \n",
              "\n",
              "                                     related_topics  likes  dislikes  rating  \\\n",
              "0                                  Array,Hash Table  20217       712      97   \n",
              "1                        Linked List,Math,Recursion  11350      2704      81   \n",
              "2     Hash Table,Two Pointers,String,Sliding Window  13810       714      95   \n",
              "3            Array,Binary Search,Divide and Conquer   9665      1486      87   \n",
              "4                        String,Dynamic Programming  10271       670      94   \n",
              "...                                             ...    ...       ...     ...   \n",
              "1820                                            NaN      2         2      50   \n",
              "1821                                           Math     37         4      90   \n",
              "1822                                          Array     81         4      95   \n",
              "1823       Dynamic Programming,Breadth-first Search    147         8      95   \n",
              "1824                              Heap,Design,Queue     52        43      55   \n",
              "\n",
              "      asked_by_faang                                  similar_questions  \n",
              "0                  1  [3Sum, /problems/3sum/, Medium], [4Sum, /probl...  \n",
              "1                  1  [Multiply Strings, /problems/multiply-strings/...  \n",
              "2                  1  [Longest Substring with At Most Two Distinct C...  \n",
              "3                  1                                                NaN  \n",
              "4                  1  [Shortest Palindrome, /problems/shortest-palin...  \n",
              "...              ...                                                ...  \n",
              "1820               1                                                NaN  \n",
              "1821               0                                                NaN  \n",
              "1822               0                                                NaN  \n",
              "1823               0            [Frog Jump, /problems/frog-jump/, Hard]  \n",
              "1824               1  [Find Median from Data Stream, /problems/find-...  \n",
              "\n",
              "[1825 rows x 19 columns]>"
            ]
          },
          "metadata": {},
          "execution_count": 2
        }
      ]
    },
    {
      "cell_type": "markdown",
      "source": [
        "##Question 1\n",
        "####What is the Shape of the dataset?"
      ],
      "metadata": {
        "id": "Qo2pP4EpVEvo"
      }
    },
    {
      "cell_type": "code",
      "source": [
        "\n",
        "dataset.shape\n"
      ],
      "metadata": {
        "id": "4ixw2A5HUkXr",
        "colab": {
          "base_uri": "https://localhost:8080/"
        },
        "outputId": "11f4dc11-360a-4c86-a29d-87d8d799606b"
      },
      "execution_count": 3,
      "outputs": [
        {
          "output_type": "execute_result",
          "data": {
            "text/plain": [
              "(1825, 19)"
            ]
          },
          "metadata": {},
          "execution_count": 3
        }
      ]
    },
    {
      "cell_type": "markdown",
      "source": [
        "##Question 2\n",
        "####What is the datatype of **accepted** and **acceptance rate** fields?"
      ],
      "metadata": {
        "id": "4KIYQvDMVjee"
      }
    },
    {
      "cell_type": "code",
      "source": [
        "print(dataset.acceptance_rate.info)\n",
        "print(dataset.accepted.info)\n",
        "\n"
      ],
      "metadata": {
        "id": "zfI_d7C7V_iB",
        "colab": {
          "base_uri": "https://localhost:8080/"
        },
        "outputId": "baf29c60-72bd-4f2a-9397-4cb1cf8c276d"
      },
      "execution_count": 4,
      "outputs": [
        {
          "output_type": "stream",
          "name": "stdout",
          "text": [
            "<bound method Series.info of 0       46.7\n",
            "1       35.7\n",
            "2       31.5\n",
            "3       31.4\n",
            "4       30.6\n",
            "        ... \n",
            "1820    88.9\n",
            "1821    67.8\n",
            "1822    71.8\n",
            "1823    47.2\n",
            "1824    28.1\n",
            "Name: acceptance_rate, Length: 1825, dtype: float64>\n",
            "<bound method Series.info of 0         4.1M\n",
            "1         1.9M\n",
            "2         2.1M\n",
            "3       904.7K\n",
            "4         1.3M\n",
            "         ...  \n",
            "1820       305\n",
            "1821      7.9K\n",
            "1822      6.8K\n",
            "1823        5K\n",
            "1824      2.1K\n",
            "Name: accepted, Length: 1825, dtype: object>\n"
          ]
        }
      ]
    },
    {
      "cell_type": "code",
      "source": [
        "dataset.info()"
      ],
      "metadata": {
        "colab": {
          "base_uri": "https://localhost:8080/"
        },
        "id": "gFB_f13OCTRw",
        "outputId": "74ed8a54-7eea-4d71-8a39-622ff5bf30e4"
      },
      "execution_count": 5,
      "outputs": [
        {
          "output_type": "stream",
          "name": "stdout",
          "text": [
            "<class 'pandas.core.frame.DataFrame'>\n",
            "RangeIndex: 1825 entries, 0 to 1824\n",
            "Data columns (total 19 columns):\n",
            " #   Column             Non-Null Count  Dtype  \n",
            "---  ------             --------------  -----  \n",
            " 0   id                 1825 non-null   int64  \n",
            " 1   title              1825 non-null   object \n",
            " 2   description        1825 non-null   object \n",
            " 3   is_premium         1825 non-null   int64  \n",
            " 4   difficulty         1825 non-null   object \n",
            " 5   solution_link      987 non-null    object \n",
            " 6   acceptance_rate    1825 non-null   float64\n",
            " 7   frequency          1825 non-null   float64\n",
            " 8   url                1825 non-null   object \n",
            " 9   discuss_count      1825 non-null   int64  \n",
            " 10  accepted           1825 non-null   object \n",
            " 11  submissions        1825 non-null   object \n",
            " 12  companies          1749 non-null   object \n",
            " 13  related_topics     1571 non-null   object \n",
            " 14  likes              1825 non-null   int64  \n",
            " 15  dislikes           1825 non-null   int64  \n",
            " 16  rating             1825 non-null   int64  \n",
            " 17  asked_by_faang     1825 non-null   int64  \n",
            " 18  similar_questions  745 non-null    object \n",
            "dtypes: float64(2), int64(7), object(10)\n",
            "memory usage: 271.0+ KB\n"
          ]
        }
      ]
    },
    {
      "cell_type": "code",
      "source": [],
      "metadata": {
        "id": "3wDb7QU5CnBY"
      },
      "execution_count": 5,
      "outputs": []
    },
    {
      "cell_type": "markdown",
      "source": [
        "##Question 3\n",
        "####What is the number of missing values correponsing to each field?"
      ],
      "metadata": {
        "id": "8R5lD2l6WE2C"
      }
    },
    {
      "cell_type": "code",
      "source": [
        "dataset.isnull().sum()"
      ],
      "metadata": {
        "id": "RGucL-g_WRVr",
        "colab": {
          "base_uri": "https://localhost:8080/"
        },
        "outputId": "ce52e66d-32be-4adf-e719-a5fa64267224"
      },
      "execution_count": 6,
      "outputs": [
        {
          "output_type": "execute_result",
          "data": {
            "text/plain": [
              "id                      0\n",
              "title                   0\n",
              "description             0\n",
              "is_premium              0\n",
              "difficulty              0\n",
              "solution_link         838\n",
              "acceptance_rate         0\n",
              "frequency               0\n",
              "url                     0\n",
              "discuss_count           0\n",
              "accepted                0\n",
              "submissions             0\n",
              "companies              76\n",
              "related_topics        254\n",
              "likes                   0\n",
              "dislikes                0\n",
              "rating                  0\n",
              "asked_by_faang          0\n",
              "similar_questions    1080\n",
              "dtype: int64"
            ]
          },
          "metadata": {},
          "execution_count": 6
        }
      ]
    },
    {
      "cell_type": "markdown",
      "source": [
        "##Question 4\n",
        "####What is the cardinality of the columns?"
      ],
      "metadata": {
        "id": "_vT2mNEXWS9n"
      }
    },
    {
      "cell_type": "code",
      "source": [
        "dataset.nunique()"
      ],
      "metadata": {
        "id": "qGt2z5gLWtgr",
        "colab": {
          "base_uri": "https://localhost:8080/"
        },
        "outputId": "72fdd804-6385-446f-bbc4-22426b9eb4e8"
      },
      "execution_count": 7,
      "outputs": [
        {
          "output_type": "execute_result",
          "data": {
            "text/plain": [
              "id                   1825\n",
              "title                1825\n",
              "description          1670\n",
              "is_premium              2\n",
              "difficulty              3\n",
              "solution_link         987\n",
              "acceptance_rate       576\n",
              "frequency             619\n",
              "url                  1825\n",
              "discuss_count         642\n",
              "accepted             1098\n",
              "submissions          1236\n",
              "companies             691\n",
              "related_topics        320\n",
              "likes                1161\n",
              "dislikes              603\n",
              "rating                 94\n",
              "asked_by_faang          2\n",
              "similar_questions     689\n",
              "dtype: int64"
            ]
          },
          "metadata": {},
          "execution_count": 7
        }
      ]
    },
    {
      "cell_type": "markdown",
      "source": [
        "##Question 5\n",
        "####Give 2 inferences from the .describe() of the dataset."
      ],
      "metadata": {
        "id": "JOsMt4lFWuye"
      }
    },
    {
      "cell_type": "code",
      "source": [
        "dataset.describe()"
      ],
      "metadata": {
        "id": "Nmi_L7QjXEA-",
        "colab": {
          "base_uri": "https://localhost:8080/",
          "height": 300
        },
        "outputId": "635c8f4a-1793-492c-e8ea-c144271fc944"
      },
      "execution_count": 12,
      "outputs": [
        {
          "output_type": "execute_result",
          "data": {
            "text/plain": [
              "                id   is_premium  acceptance_rate    frequency  discuss_count  \\\n",
              "count  1825.000000  1825.000000      1825.000000  1825.000000    1825.000000   \n",
              "mean    913.000000     0.218082        53.139616    21.113041     421.435068   \n",
              "std     526.976438     0.413057        14.778411    22.364741     330.583617   \n",
              "min       1.000000     0.000000        13.900000     0.000000       9.000000   \n",
              "25%     457.000000     0.000000        42.400000     3.100000     150.000000   \n",
              "50%     913.000000     0.000000        51.600000    13.500000     292.000000   \n",
              "75%    1369.000000     0.000000        62.800000    31.800000     663.000000   \n",
              "max    1825.000000     1.000000        95.600000   100.000000     999.000000   \n",
              "\n",
              "              likes     dislikes       rating  asked_by_faang  \n",
              "count   1825.000000  1825.000000  1825.000000     1825.000000  \n",
              "mean    1050.534795   279.010959    77.391233        0.671233  \n",
              "std     1512.674013   608.489206    23.317515        0.469894  \n",
              "min        2.000000     0.000000     7.000000        0.000000  \n",
              "25%      217.000000    32.000000    67.000000        0.000000  \n",
              "50%      516.000000    92.000000    88.000000        1.000000  \n",
              "75%     1200.000000   239.000000    95.000000        1.000000  \n",
              "max    20217.000000  8900.000000   100.000000        1.000000  "
            ],
            "text/html": [
              "\n",
              "  <div id=\"df-ec09be3a-fbb8-4a99-8f94-86e0f7f01dda\" class=\"colab-df-container\">\n",
              "    <div>\n",
              "<style scoped>\n",
              "    .dataframe tbody tr th:only-of-type {\n",
              "        vertical-align: middle;\n",
              "    }\n",
              "\n",
              "    .dataframe tbody tr th {\n",
              "        vertical-align: top;\n",
              "    }\n",
              "\n",
              "    .dataframe thead th {\n",
              "        text-align: right;\n",
              "    }\n",
              "</style>\n",
              "<table border=\"1\" class=\"dataframe\">\n",
              "  <thead>\n",
              "    <tr style=\"text-align: right;\">\n",
              "      <th></th>\n",
              "      <th>id</th>\n",
              "      <th>is_premium</th>\n",
              "      <th>acceptance_rate</th>\n",
              "      <th>frequency</th>\n",
              "      <th>discuss_count</th>\n",
              "      <th>likes</th>\n",
              "      <th>dislikes</th>\n",
              "      <th>rating</th>\n",
              "      <th>asked_by_faang</th>\n",
              "    </tr>\n",
              "  </thead>\n",
              "  <tbody>\n",
              "    <tr>\n",
              "      <th>count</th>\n",
              "      <td>1825.000000</td>\n",
              "      <td>1825.000000</td>\n",
              "      <td>1825.000000</td>\n",
              "      <td>1825.000000</td>\n",
              "      <td>1825.000000</td>\n",
              "      <td>1825.000000</td>\n",
              "      <td>1825.000000</td>\n",
              "      <td>1825.000000</td>\n",
              "      <td>1825.000000</td>\n",
              "    </tr>\n",
              "    <tr>\n",
              "      <th>mean</th>\n",
              "      <td>913.000000</td>\n",
              "      <td>0.218082</td>\n",
              "      <td>53.139616</td>\n",
              "      <td>21.113041</td>\n",
              "      <td>421.435068</td>\n",
              "      <td>1050.534795</td>\n",
              "      <td>279.010959</td>\n",
              "      <td>77.391233</td>\n",
              "      <td>0.671233</td>\n",
              "    </tr>\n",
              "    <tr>\n",
              "      <th>std</th>\n",
              "      <td>526.976438</td>\n",
              "      <td>0.413057</td>\n",
              "      <td>14.778411</td>\n",
              "      <td>22.364741</td>\n",
              "      <td>330.583617</td>\n",
              "      <td>1512.674013</td>\n",
              "      <td>608.489206</td>\n",
              "      <td>23.317515</td>\n",
              "      <td>0.469894</td>\n",
              "    </tr>\n",
              "    <tr>\n",
              "      <th>min</th>\n",
              "      <td>1.000000</td>\n",
              "      <td>0.000000</td>\n",
              "      <td>13.900000</td>\n",
              "      <td>0.000000</td>\n",
              "      <td>9.000000</td>\n",
              "      <td>2.000000</td>\n",
              "      <td>0.000000</td>\n",
              "      <td>7.000000</td>\n",
              "      <td>0.000000</td>\n",
              "    </tr>\n",
              "    <tr>\n",
              "      <th>25%</th>\n",
              "      <td>457.000000</td>\n",
              "      <td>0.000000</td>\n",
              "      <td>42.400000</td>\n",
              "      <td>3.100000</td>\n",
              "      <td>150.000000</td>\n",
              "      <td>217.000000</td>\n",
              "      <td>32.000000</td>\n",
              "      <td>67.000000</td>\n",
              "      <td>0.000000</td>\n",
              "    </tr>\n",
              "    <tr>\n",
              "      <th>50%</th>\n",
              "      <td>913.000000</td>\n",
              "      <td>0.000000</td>\n",
              "      <td>51.600000</td>\n",
              "      <td>13.500000</td>\n",
              "      <td>292.000000</td>\n",
              "      <td>516.000000</td>\n",
              "      <td>92.000000</td>\n",
              "      <td>88.000000</td>\n",
              "      <td>1.000000</td>\n",
              "    </tr>\n",
              "    <tr>\n",
              "      <th>75%</th>\n",
              "      <td>1369.000000</td>\n",
              "      <td>0.000000</td>\n",
              "      <td>62.800000</td>\n",
              "      <td>31.800000</td>\n",
              "      <td>663.000000</td>\n",
              "      <td>1200.000000</td>\n",
              "      <td>239.000000</td>\n",
              "      <td>95.000000</td>\n",
              "      <td>1.000000</td>\n",
              "    </tr>\n",
              "    <tr>\n",
              "      <th>max</th>\n",
              "      <td>1825.000000</td>\n",
              "      <td>1.000000</td>\n",
              "      <td>95.600000</td>\n",
              "      <td>100.000000</td>\n",
              "      <td>999.000000</td>\n",
              "      <td>20217.000000</td>\n",
              "      <td>8900.000000</td>\n",
              "      <td>100.000000</td>\n",
              "      <td>1.000000</td>\n",
              "    </tr>\n",
              "  </tbody>\n",
              "</table>\n",
              "</div>\n",
              "    <div class=\"colab-df-buttons\">\n",
              "\n",
              "  <div class=\"colab-df-container\">\n",
              "    <button class=\"colab-df-convert\" onclick=\"convertToInteractive('df-ec09be3a-fbb8-4a99-8f94-86e0f7f01dda')\"\n",
              "            title=\"Convert this dataframe to an interactive table.\"\n",
              "            style=\"display:none;\">\n",
              "\n",
              "  <svg xmlns=\"http://www.w3.org/2000/svg\" height=\"24px\" viewBox=\"0 -960 960 960\">\n",
              "    <path d=\"M120-120v-720h720v720H120Zm60-500h600v-160H180v160Zm220 220h160v-160H400v160Zm0 220h160v-160H400v160ZM180-400h160v-160H180v160Zm440 0h160v-160H620v160ZM180-180h160v-160H180v160Zm440 0h160v-160H620v160Z\"/>\n",
              "  </svg>\n",
              "    </button>\n",
              "\n",
              "  <style>\n",
              "    .colab-df-container {\n",
              "      display:flex;\n",
              "      gap: 12px;\n",
              "    }\n",
              "\n",
              "    .colab-df-convert {\n",
              "      background-color: #E8F0FE;\n",
              "      border: none;\n",
              "      border-radius: 50%;\n",
              "      cursor: pointer;\n",
              "      display: none;\n",
              "      fill: #1967D2;\n",
              "      height: 32px;\n",
              "      padding: 0 0 0 0;\n",
              "      width: 32px;\n",
              "    }\n",
              "\n",
              "    .colab-df-convert:hover {\n",
              "      background-color: #E2EBFA;\n",
              "      box-shadow: 0px 1px 2px rgba(60, 64, 67, 0.3), 0px 1px 3px 1px rgba(60, 64, 67, 0.15);\n",
              "      fill: #174EA6;\n",
              "    }\n",
              "\n",
              "    .colab-df-buttons div {\n",
              "      margin-bottom: 4px;\n",
              "    }\n",
              "\n",
              "    [theme=dark] .colab-df-convert {\n",
              "      background-color: #3B4455;\n",
              "      fill: #D2E3FC;\n",
              "    }\n",
              "\n",
              "    [theme=dark] .colab-df-convert:hover {\n",
              "      background-color: #434B5C;\n",
              "      box-shadow: 0px 1px 3px 1px rgba(0, 0, 0, 0.15);\n",
              "      filter: drop-shadow(0px 1px 2px rgba(0, 0, 0, 0.3));\n",
              "      fill: #FFFFFF;\n",
              "    }\n",
              "  </style>\n",
              "\n",
              "    <script>\n",
              "      const buttonEl =\n",
              "        document.querySelector('#df-ec09be3a-fbb8-4a99-8f94-86e0f7f01dda button.colab-df-convert');\n",
              "      buttonEl.style.display =\n",
              "        google.colab.kernel.accessAllowed ? 'block' : 'none';\n",
              "\n",
              "      async function convertToInteractive(key) {\n",
              "        const element = document.querySelector('#df-ec09be3a-fbb8-4a99-8f94-86e0f7f01dda');\n",
              "        const dataTable =\n",
              "          await google.colab.kernel.invokeFunction('convertToInteractive',\n",
              "                                                    [key], {});\n",
              "        if (!dataTable) return;\n",
              "\n",
              "        const docLinkHtml = 'Like what you see? Visit the ' +\n",
              "          '<a target=\"_blank\" href=https://colab.research.google.com/notebooks/data_table.ipynb>data table notebook</a>'\n",
              "          + ' to learn more about interactive tables.';\n",
              "        element.innerHTML = '';\n",
              "        dataTable['output_type'] = 'display_data';\n",
              "        await google.colab.output.renderOutput(dataTable, element);\n",
              "        const docLink = document.createElement('div');\n",
              "        docLink.innerHTML = docLinkHtml;\n",
              "        element.appendChild(docLink);\n",
              "      }\n",
              "    </script>\n",
              "  </div>\n",
              "\n",
              "\n",
              "<div id=\"df-25f09e08-b8ea-435f-9bde-1193b982e374\">\n",
              "  <button class=\"colab-df-quickchart\" onclick=\"quickchart('df-25f09e08-b8ea-435f-9bde-1193b982e374')\"\n",
              "            title=\"Suggest charts.\"\n",
              "            style=\"display:none;\">\n",
              "\n",
              "<svg xmlns=\"http://www.w3.org/2000/svg\" height=\"24px\"viewBox=\"0 0 24 24\"\n",
              "     width=\"24px\">\n",
              "    <g>\n",
              "        <path d=\"M19 3H5c-1.1 0-2 .9-2 2v14c0 1.1.9 2 2 2h14c1.1 0 2-.9 2-2V5c0-1.1-.9-2-2-2zM9 17H7v-7h2v7zm4 0h-2V7h2v10zm4 0h-2v-4h2v4z\"/>\n",
              "    </g>\n",
              "</svg>\n",
              "  </button>\n",
              "\n",
              "<style>\n",
              "  .colab-df-quickchart {\n",
              "      --bg-color: #E8F0FE;\n",
              "      --fill-color: #1967D2;\n",
              "      --hover-bg-color: #E2EBFA;\n",
              "      --hover-fill-color: #174EA6;\n",
              "      --disabled-fill-color: #AAA;\n",
              "      --disabled-bg-color: #DDD;\n",
              "  }\n",
              "\n",
              "  [theme=dark] .colab-df-quickchart {\n",
              "      --bg-color: #3B4455;\n",
              "      --fill-color: #D2E3FC;\n",
              "      --hover-bg-color: #434B5C;\n",
              "      --hover-fill-color: #FFFFFF;\n",
              "      --disabled-bg-color: #3B4455;\n",
              "      --disabled-fill-color: #666;\n",
              "  }\n",
              "\n",
              "  .colab-df-quickchart {\n",
              "    background-color: var(--bg-color);\n",
              "    border: none;\n",
              "    border-radius: 50%;\n",
              "    cursor: pointer;\n",
              "    display: none;\n",
              "    fill: var(--fill-color);\n",
              "    height: 32px;\n",
              "    padding: 0;\n",
              "    width: 32px;\n",
              "  }\n",
              "\n",
              "  .colab-df-quickchart:hover {\n",
              "    background-color: var(--hover-bg-color);\n",
              "    box-shadow: 0 1px 2px rgba(60, 64, 67, 0.3), 0 1px 3px 1px rgba(60, 64, 67, 0.15);\n",
              "    fill: var(--button-hover-fill-color);\n",
              "  }\n",
              "\n",
              "  .colab-df-quickchart-complete:disabled,\n",
              "  .colab-df-quickchart-complete:disabled:hover {\n",
              "    background-color: var(--disabled-bg-color);\n",
              "    fill: var(--disabled-fill-color);\n",
              "    box-shadow: none;\n",
              "  }\n",
              "\n",
              "  .colab-df-spinner {\n",
              "    border: 2px solid var(--fill-color);\n",
              "    border-color: transparent;\n",
              "    border-bottom-color: var(--fill-color);\n",
              "    animation:\n",
              "      spin 1s steps(1) infinite;\n",
              "  }\n",
              "\n",
              "  @keyframes spin {\n",
              "    0% {\n",
              "      border-color: transparent;\n",
              "      border-bottom-color: var(--fill-color);\n",
              "      border-left-color: var(--fill-color);\n",
              "    }\n",
              "    20% {\n",
              "      border-color: transparent;\n",
              "      border-left-color: var(--fill-color);\n",
              "      border-top-color: var(--fill-color);\n",
              "    }\n",
              "    30% {\n",
              "      border-color: transparent;\n",
              "      border-left-color: var(--fill-color);\n",
              "      border-top-color: var(--fill-color);\n",
              "      border-right-color: var(--fill-color);\n",
              "    }\n",
              "    40% {\n",
              "      border-color: transparent;\n",
              "      border-right-color: var(--fill-color);\n",
              "      border-top-color: var(--fill-color);\n",
              "    }\n",
              "    60% {\n",
              "      border-color: transparent;\n",
              "      border-right-color: var(--fill-color);\n",
              "    }\n",
              "    80% {\n",
              "      border-color: transparent;\n",
              "      border-right-color: var(--fill-color);\n",
              "      border-bottom-color: var(--fill-color);\n",
              "    }\n",
              "    90% {\n",
              "      border-color: transparent;\n",
              "      border-bottom-color: var(--fill-color);\n",
              "    }\n",
              "  }\n",
              "</style>\n",
              "\n",
              "  <script>\n",
              "    async function quickchart(key) {\n",
              "      const quickchartButtonEl =\n",
              "        document.querySelector('#' + key + ' button');\n",
              "      quickchartButtonEl.disabled = true;  // To prevent multiple clicks.\n",
              "      quickchartButtonEl.classList.add('colab-df-spinner');\n",
              "      try {\n",
              "        const charts = await google.colab.kernel.invokeFunction(\n",
              "            'suggestCharts', [key], {});\n",
              "      } catch (error) {\n",
              "        console.error('Error during call to suggestCharts:', error);\n",
              "      }\n",
              "      quickchartButtonEl.classList.remove('colab-df-spinner');\n",
              "      quickchartButtonEl.classList.add('colab-df-quickchart-complete');\n",
              "    }\n",
              "    (() => {\n",
              "      let quickchartButtonEl =\n",
              "        document.querySelector('#df-25f09e08-b8ea-435f-9bde-1193b982e374 button');\n",
              "      quickchartButtonEl.style.display =\n",
              "        google.colab.kernel.accessAllowed ? 'block' : 'none';\n",
              "    })();\n",
              "  </script>\n",
              "</div>\n",
              "    </div>\n",
              "  </div>\n"
            ]
          },
          "metadata": {},
          "execution_count": 12
        }
      ]
    },
    {
      "cell_type": "markdown",
      "source": [
        "##Question 6\n",
        "####Plot the outliners in the dataset."
      ],
      "metadata": {
        "id": "T6kMonATZW4F"
      }
    },
    {
      "cell_type": "code",
      "source": [
        "#Solution 6(your code here)"
      ],
      "metadata": {
        "id": "3h_BJszyZXK3"
      },
      "execution_count": 9,
      "outputs": []
    },
    {
      "cell_type": "markdown",
      "source": [
        "##Question 7\n",
        "####**is_premium**, **difficulty** , **rating** and **asked_by_faang** are four important parameters in the dataset. Plot/calculate all possible relation between them and explain the relationship."
      ],
      "metadata": {
        "id": "CgnQi-IDXYsJ"
      }
    },
    {
      "cell_type": "code",
      "source": [
        "import seaborn as sns\n",
        "import matplotlib.pyplot as plt\n",
        "\n",
        "difficulty_h = dataset['difficulty'].value_counts('hard')\n",
        "difficulty_h_per = difficulty_h / dataset.shape[0] * 100\n",
        "\n",
        "difficulty_m = dataset['difficulty'].value_counts('medium')\n",
        "difficulty_m_per = difficulty_m / dataset.shape[0] * 100\n",
        "\n",
        "difficulty_e = dataset['difficulty'].value_counts('easy')\n",
        "difficulty_e_per = difficulty_e / dataset.shape[0] * 100\n",
        "\n",
        "#print(difficulty_h_per)\n",
        "#print(difficulty_m_per)\n",
        "#print(difficulty_e_per)\n",
        "\n",
        "sns.countplot(x='difficulty', data=dataset, width=0.3);\n",
        "\n",
        "plt.title('Difficulty Distribution', size=12)\n",
        "\n",
        "\n"
      ],
      "metadata": {
        "id": "-02ErXn-YFUn",
        "colab": {
          "base_uri": "https://localhost:8080/",
          "height": 490
        },
        "outputId": "50c4cdf1-85bd-488a-fcd4-d155a216a51d"
      },
      "execution_count": 45,
      "outputs": [
        {
          "output_type": "execute_result",
          "data": {
            "text/plain": [
              "Text(0.5, 1.0, 'Difficulty Distribution')"
            ]
          },
          "metadata": {},
          "execution_count": 45
        },
        {
          "output_type": "display_data",
          "data": {
            "text/plain": [
              "<Figure size 640x480 with 1 Axes>"
            ],
            "image/png": "[encoded data removed]"
          },
          "metadata": {}
        }
      ]
    },
    {
      "cell_type": "code",
      "source": [
        "sns.histplot(data=dataset, x=\"difficulty\", hue=\"asked_by_faang\")\n"
      ],
      "metadata": {
        "colab": {
          "base_uri": "https://localhost:8080/",
          "height": 472
        },
        "id": "UNR4nD_6uNQX",
        "outputId": "38ef3eef-f2a5-4bb0-bd1c-03f0e385ec6a"
      },
      "execution_count": 46,
      "outputs": [
        {
          "output_type": "execute_result",
          "data": {
            "text/plain": [
              "<Axes: xlabel='difficulty', ylabel='Count'>"
            ]
          },
          "metadata": {},
          "execution_count": 46
        },
        {
          "output_type": "display_data",
          "data": {
            "text/plain": [
              "<Figure size 640x480 with 1 Axes>"
            ],
            "image/png": "[encoded data removed]"
          },
          "metadata": {}
        }
      ]
    },
    {
      "cell_type": "code",
      "source": [
        "sns.displot(dataset.rating,kde=False)"
      ],
      "metadata": {
        "colab": {
          "base_uri": "https://localhost:8080/",
          "height": 524
        },
        "id": "ho-T7cKQnexP",
        "outputId": "ca8a3f67-d820-4845-f2c9-4d03aead6caa"
      },
      "execution_count": 47,
      "outputs": [
        {
          "output_type": "execute_result",
          "data": {
            "text/plain": [
              "<seaborn.axisgrid.FacetGrid at 0x7f5942e250f0>"
            ]
          },
          "metadata": {},
          "execution_count": 47
        },
        {
          "output_type": "display_data",
          "data": {
            "text/plain": [
              "<Figure size 500x500 with 1 Axes>"
            ],
            "image/png": "[encoded data removed]"
          },
          "metadata": {}
        }
      ]
    },
    {
      "cell_type": "code",
      "source": [
        "sns.displot(dataset.asked_by_faang,kde=False)"
      ],
      "metadata": {
        "colab": {
          "base_uri": "https://localhost:8080/",
          "height": 524
        },
        "id": "-FHWMvUvHOwO",
        "outputId": "87b7f142-9299-46a9-f9c0-74275c03dfc6"
      },
      "execution_count": 49,
      "outputs": [
        {
          "output_type": "execute_result",
          "data": {
            "text/plain": [
              "<seaborn.axisgrid.FacetGrid at 0x7f594595e680>"
            ]
          },
          "metadata": {},
          "execution_count": 49
        },
        {
          "output_type": "display_data",
          "data": {
            "text/plain": [
              "<Figure size 500x500 with 1 Axes>"
            ],
            "image/png": "[encoded data removed]"
          },
          "metadata": {}
        }
      ]
    },
    {
      "cell_type": "markdown",
      "source": [
        "##Question 8\n",
        "####Plot top 20 companies whose problems are listed in this dataset."
      ],
      "metadata": {
        "id": "ZrXsAa5_YSTk"
      }
    },
    {
      "cell_type": "code",
      "source": [
        "top_20 = dataset['companies'].value_counts()[:10]\n",
        "\n",
        "top_20.plot(kind='bar',figsize=(10,8))\n",
        "plt.title('Top 20 companies')\n"
      ],
      "metadata": {
        "id": "irSkjnXgYsiT",
        "colab": {
          "base_uri": "https://localhost:8080/",
          "height": 812
        },
        "outputId": "28f0a55a-a105-4616-d098-163af8a38aa9"
      },
      "execution_count": 58,
      "outputs": [
        {
          "output_type": "execute_result",
          "data": {
            "text/plain": [
              "Text(0.5, 1.0, 'Top 20 companies')"
            ]
          },
          "metadata": {},
          "execution_count": 58
        },
        {
          "output_type": "display_data",
          "data": {
            "text/plain": [
              "<Figure size 1000x800 with 1 Axes>"
            ],
            "image/png": "[encoded data removed]"
          },
          "metadata": {}
        }
      ]
    }
  ]
}