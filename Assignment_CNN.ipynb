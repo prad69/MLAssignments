{
  "cells": [
    {
      "cell_type": "markdown",
      "metadata": {
        "id": "view-in-github",
        "colab_type": "text"
      },
      "source": [
        "<a href=\"https://colab.research.google.com/github/prad69/MLAssignments/blob/main/Assignment_CNN.ipynb\" target=\"_parent\"><img src=\"https://colab.research.google.com/assets/colab-badge.svg\" alt=\"Open In Colab\"/></a>"
      ]
    },
    {
      "cell_type": "markdown",
      "metadata": {
        "id": "aUPBlfDXfDne"
      },
      "source": [
        "# Handwritten Letters Dataset\n",
        "###It contains the following info:\n",
        "#####**The main dataset (letters.zip)**\n",
        "1650 (50x33) color images (32x32x3) with 33 letters and the file with labels letters.txt.\n",
        "Photo files are in the .png format and the labels are integers and values.\n",
        "Additional letters.csv file.\n",
        "The file LetterColorImages.h5 consists of preprocessing images of this set: image tensors and targets (labels).\n",
        "#####**The additional dataset (letters2.zip)**\n",
        "5940 (180x33) color images (32x32x3) with 33 letters and the file with labels letters2.txt.\n",
        "Photo files are in the .png format and the labels are integers and values.\n",
        "Additional letters2.csv file.\n",
        "The file LetterColorImages2.h5 consists of preprocessing images of this set: image tensors and targets (labels).\n",
        "#####**The additional dataset (letters3.zip)**\n",
        "6600 (200x33) color images (32x32x3) with 33 letters and the file with labels letters2.txt.\n",
        "Photo files are in the .png format and the labels are integers and values.\n",
        "Additional letters3.csv file.\n",
        "The file LetterColorImages3.h5 consists of preprocessing images of this set: image tensors and targets (labels).\n",
        "Letter Symbols => Letter Labels\n",
        "а=>1, б=>2, в=>3, г=>4, д=>5, е=>6, ё=>7, ж=>8, з=>9, и=>10,\n",
        "й=>11, к=>12, л=>13, м=>14, н=>15, о=>16, п=>17, р=>18, с=>19, т=>20,\n",
        "у=>21, ф=>22, х=>23, ц=>24, ч=>25, ш=>26, щ=>27, ъ=>28, ы=>29, ь=>30,\n",
        "э=>31, ю=>32, я=>33\n",
        "\n",
        "Image Backgrounds => Background Labels\n",
        "striped=>0, gridded=>1, no background=>2, graph paper=>3\n",
        "\n",
        "#####**The new version (zip_letters.zip)**\n",
        "Letter Symbols => Letter Labels\n",
        "а=>00, б=>01, в=>02, г=>03, д=>04, е=>05, ё=>06, ж=>07, з=>08, и=>09,\n",
        "й=>10, к=>11, л=>12, м=>13, н=>14, о=>15, п=>16, р=>17, с=>18, т=>19,\n",
        "у=>20, ф=>21, х=>22, ц=>23, ч=>24, ш=>25, щ=>26, ъ=>27, ы=>28, ь=>29,\n",
        "э=>30, ю=>31, я=>32\n",
        "\n",
        "'lowercase'=>00, 'uppercase'=>01\n",
        "\n",
        "Image Backgrounds => Background Labels\n",
        "'single-colored paper'=>00, 'striped paper'=>01, 'squared paper'=>02, 'graph paper'=>03\n",
        "\n"
      ]
    },
    {
      "cell_type": "markdown",
      "metadata": {
        "id": "9w1aihGOB8jM"
      },
      "source": [
        "##Question 1\n",
        "####Import the libraries and extract the dataset from zipped file."
      ]
    },
    {
      "cell_type": "code",
      "execution_count": 1,
      "metadata": {
        "id": "Td0fdTsQC2As"
      },
      "outputs": [],
      "source": [
        "# Remove warning messages\n",
        "import warnings\n",
        "warnings.filterwarnings('ignore')\n",
        "\n",
        "import pandas as pd\n",
        "import numpy as np\n",
        "import random\n",
        "import zipfile\n",
        "\n",
        "# navigation and read files\n",
        "import glob\n",
        "import os\n",
        "\n",
        "# Read HDF5 binary data format: convenient for large data storage\n",
        "import h5py\n",
        "\n",
        "# Read and display images\n",
        "import matplotlib.pyplot as plt\n",
        "import imageio\n",
        "import cv2\n",
        "from tensorflow.keras.preprocessing.image import load_img\n",
        "from tensorflow.keras.preprocessing.image import img_to_array\n",
        "#from tensorflow import keras\n",
        "\n",
        "# DL dependancies\n",
        "from sklearn.model_selection import train_test_split\n",
        "from sklearn.utils import shuffle\n",
        "from tensorflow.keras.models import Sequential\n",
        "from tensorflow.keras.layers import Dense, Flatten, Conv2D, MaxPooling2D, Dropout, LeakyReLU,GlobalMaxPooling2D\n",
        "from tensorflow.keras.metrics import top_k_categorical_accuracy,categorical_accuracy\n",
        "from tensorflow.keras.callbacks import ModelCheckpoint,ReduceLROnPlateau,EarlyStopping"
      ]
    },
    {
      "cell_type": "markdown",
      "metadata": {
        "id": "PZGWxG3kCv86"
      },
      "source": [
        "##Question 2\n",
        "####Import the dataset - 'letters.csv', 'letters2.csv', 'letters3.csv'"
      ]
    },
    {
      "cell_type": "code",
      "execution_count": null,
      "metadata": {
        "colab": {
          "base_uri": "https://localhost:8080/"
        },
        "id": "UgVES5tnauxz",
        "outputId": "87c73ad3-36b6-4796-81c1-24e3f953978d"
      },
      "outputs": [
        {
          "name": "stdout",
          "output_type": "stream",
          "text": [
            "Drive already mounted at /content/drive; to attempt to forcibly remount, call drive.mount(\"/content/drive\", force_remount=True).\n"
          ]
        }
      ],
      "source": [
        "from google.colab import drive\n",
        "drive.mount('/content/drive')\n",
        "\n",
        "def unzip_folder(zip_path, extract_path):\n",
        "    with zipfile.ZipFile(zip_path, 'r') as zip_ref:\n",
        "        zip_ref.extractall(extract_path)\n",
        "\n",
        "zip_file_path = '/content/drive/MyDrive/Colab Notebooks/datasets/Handwritten_Letter_Dataset/archive.zip'\n",
        "extract_directory = '/content/drive/MyDrive/Colab Notebooks/datasets/Handwritten_Letter_Dataset/'\n",
        "\n",
        "unzip_folder(zip_file_path, extract_directory)"
      ]
    },
    {
      "cell_type": "code",
      "execution_count": 2,
      "metadata": {
        "id": "eAAqiqxAC7hO",
        "colab": {
          "base_uri": "https://localhost:8080/"
        },
        "outputId": "c72a88ec-d4bb-4452-a0b9-b3f02d041423"
      },
      "outputs": [
        {
          "output_type": "stream",
          "name": "stdout",
          "text": [
            "Mounted at /content/drive\n"
          ]
        }
      ],
      "source": [
        "from google.colab import drive\n",
        "drive.mount('/content/drive')\n",
        "PATH_TO_DATA = '/content/drive/MyDrive/Colab Notebooks/datasets/Handwritten_Letter_Dataset/'\n",
        "\n",
        "CSV_FILES =  ['letters.csv', 'letters2.csv', 'letters3.csv']\n"
      ]
    },
    {
      "cell_type": "code",
      "execution_count": 3,
      "metadata": {
        "id": "5iAW8gpzv1C3"
      },
      "outputs": [],
      "source": [
        "def import_data(CSV_FILE):\n",
        "    data = pd.read_csv(PATH_TO_DATA + CSV_FILE)\n",
        "    # Create path extention for corresponding folders that contains images\n",
        "    data['source'] = CSV_FILE[:-4]+'/'\n",
        "    return data"
      ]
    },
    {
      "cell_type": "code",
      "execution_count": 4,
      "metadata": {
        "id": "HWxuH7zWwFvs"
      },
      "outputs": [],
      "source": [
        "data1 = import_data(CSV_FILES[0])\n",
        "data2 = import_data(CSV_FILES[1])\n",
        "data3 = import_data(CSV_FILES[2])\n",
        "data = pd.concat([data1, data2, data3], ignore_index=True)\n",
        "\n",
        "# I won't use these data anymore\n",
        "del(data1, data2, data3)"
      ]
    },
    {
      "cell_type": "code",
      "execution_count": 5,
      "metadata": {
        "colab": {
          "base_uri": "https://localhost:8080/",
          "height": 424
        },
        "id": "Ld2-bbRl0KgB",
        "outputId": "5dc21c92-2716-4f4d-9eb7-22604c79a97e"
      },
      "outputs": [
        {
          "output_type": "execute_result",
          "data": {
            "text/plain": [
              "      letter  label        file  background     source\n",
              "6491       щ     27  27_212.png           2  letters2/\n",
              "2012       в      3   03_53.png           2  letters2/\n",
              "13295      ы     29  29_336.png           3  letters3/\n",
              "11270      с     19  19_311.png           3  letters3/\n",
              "12837      щ     27  27_278.png           3  letters3/\n",
              "...      ...    ...         ...         ...        ...\n",
              "5191       т     20  20_172.png           2  letters2/\n",
              "13418      ь     30  30_259.png           3  letters3/\n",
              "5390       у     21  21_191.png           2  letters2/\n",
              "860        р     18   18_11.png           0   letters/\n",
              "7270       ю     32   32_91.png           2  letters2/\n",
              "\n",
              "[14190 rows x 5 columns]"
            ],
            "text/html": [
              "\n",
              "  <div id=\"df-a29a5886-1e87-4558-a3b3-2b1794c3ab4c\" class=\"colab-df-container\">\n",
              "    <div>\n",
              "<style scoped>\n",
              "    .dataframe tbody tr th:only-of-type {\n",
              "        vertical-align: middle;\n",
              "    }\n",
              "\n",
              "    .dataframe tbody tr th {\n",
              "        vertical-align: top;\n",
              "    }\n",
              "\n",
              "    .dataframe thead th {\n",
              "        text-align: right;\n",
              "    }\n",
              "</style>\n",
              "<table border=\"1\" class=\"dataframe\">\n",
              "  <thead>\n",
              "    <tr style=\"text-align: right;\">\n",
              "      <th></th>\n",
              "      <th>letter</th>\n",
              "      <th>label</th>\n",
              "      <th>file</th>\n",
              "      <th>background</th>\n",
              "      <th>source</th>\n",
              "    </tr>\n",
              "  </thead>\n",
              "  <tbody>\n",
              "    <tr>\n",
              "      <th>6491</th>\n",
              "      <td>щ</td>\n",
              "      <td>27</td>\n",
              "      <td>27_212.png</td>\n",
              "      <td>2</td>\n",
              "      <td>letters2/</td>\n",
              "    </tr>\n",
              "    <tr>\n",
              "      <th>2012</th>\n",
              "      <td>в</td>\n",
              "      <td>3</td>\n",
              "      <td>03_53.png</td>\n",
              "      <td>2</td>\n",
              "      <td>letters2/</td>\n",
              "    </tr>\n",
              "    <tr>\n",
              "      <th>13295</th>\n",
              "      <td>ы</td>\n",
              "      <td>29</td>\n",
              "      <td>29_336.png</td>\n",
              "      <td>3</td>\n",
              "      <td>letters3/</td>\n",
              "    </tr>\n",
              "    <tr>\n",
              "      <th>11270</th>\n",
              "      <td>с</td>\n",
              "      <td>19</td>\n",
              "      <td>19_311.png</td>\n",
              "      <td>3</td>\n",
              "      <td>letters3/</td>\n",
              "    </tr>\n",
              "    <tr>\n",
              "      <th>12837</th>\n",
              "      <td>щ</td>\n",
              "      <td>27</td>\n",
              "      <td>27_278.png</td>\n",
              "      <td>3</td>\n",
              "      <td>letters3/</td>\n",
              "    </tr>\n",
              "    <tr>\n",
              "      <th>...</th>\n",
              "      <td>...</td>\n",
              "      <td>...</td>\n",
              "      <td>...</td>\n",
              "      <td>...</td>\n",
              "      <td>...</td>\n",
              "    </tr>\n",
              "    <tr>\n",
              "      <th>5191</th>\n",
              "      <td>т</td>\n",
              "      <td>20</td>\n",
              "      <td>20_172.png</td>\n",
              "      <td>2</td>\n",
              "      <td>letters2/</td>\n",
              "    </tr>\n",
              "    <tr>\n",
              "      <th>13418</th>\n",
              "      <td>ь</td>\n",
              "      <td>30</td>\n",
              "      <td>30_259.png</td>\n",
              "      <td>3</td>\n",
              "      <td>letters3/</td>\n",
              "    </tr>\n",
              "    <tr>\n",
              "      <th>5390</th>\n",
              "      <td>у</td>\n",
              "      <td>21</td>\n",
              "      <td>21_191.png</td>\n",
              "      <td>2</td>\n",
              "      <td>letters2/</td>\n",
              "    </tr>\n",
              "    <tr>\n",
              "      <th>860</th>\n",
              "      <td>р</td>\n",
              "      <td>18</td>\n",
              "      <td>18_11.png</td>\n",
              "      <td>0</td>\n",
              "      <td>letters/</td>\n",
              "    </tr>\n",
              "    <tr>\n",
              "      <th>7270</th>\n",
              "      <td>ю</td>\n",
              "      <td>32</td>\n",
              "      <td>32_91.png</td>\n",
              "      <td>2</td>\n",
              "      <td>letters2/</td>\n",
              "    </tr>\n",
              "  </tbody>\n",
              "</table>\n",
              "<p>14190 rows × 5 columns</p>\n",
              "</div>\n",
              "    <div class=\"colab-df-buttons\">\n",
              "\n",
              "  <div class=\"colab-df-container\">\n",
              "    <button class=\"colab-df-convert\" onclick=\"convertToInteractive('df-a29a5886-1e87-4558-a3b3-2b1794c3ab4c')\"\n",
              "            title=\"Convert this dataframe to an interactive table.\"\n",
              "            style=\"display:none;\">\n",
              "\n",
              "  <svg xmlns=\"http://www.w3.org/2000/svg\" height=\"24px\" viewBox=\"0 -960 960 960\">\n",
              "    <path d=\"M120-120v-720h720v720H120Zm60-500h600v-160H180v160Zm220 220h160v-160H400v160Zm0 220h160v-160H400v160ZM180-400h160v-160H180v160Zm440 0h160v-160H620v160ZM180-180h160v-160H180v160Zm440 0h160v-160H620v160Z\"/>\n",
              "  </svg>\n",
              "    </button>\n",
              "\n",
              "  <style>\n",
              "    .colab-df-container {\n",
              "      display:flex;\n",
              "      gap: 12px;\n",
              "    }\n",
              "\n",
              "    .colab-df-convert {\n",
              "      background-color: #E8F0FE;\n",
              "      border: none;\n",
              "      border-radius: 50%;\n",
              "      cursor: pointer;\n",
              "      display: none;\n",
              "      fill: #1967D2;\n",
              "      height: 32px;\n",
              "      padding: 0 0 0 0;\n",
              "      width: 32px;\n",
              "    }\n",
              "\n",
              "    .colab-df-convert:hover {\n",
              "      background-color: #E2EBFA;\n",
              "      box-shadow: 0px 1px 2px rgba(60, 64, 67, 0.3), 0px 1px 3px 1px rgba(60, 64, 67, 0.15);\n",
              "      fill: #174EA6;\n",
              "    }\n",
              "\n",
              "    .colab-df-buttons div {\n",
              "      margin-bottom: 4px;\n",
              "    }\n",
              "\n",
              "    [theme=dark] .colab-df-convert {\n",
              "      background-color: #3B4455;\n",
              "      fill: #D2E3FC;\n",
              "    }\n",
              "\n",
              "    [theme=dark] .colab-df-convert:hover {\n",
              "      background-color: #434B5C;\n",
              "      box-shadow: 0px 1px 3px 1px rgba(0, 0, 0, 0.15);\n",
              "      filter: drop-shadow(0px 1px 2px rgba(0, 0, 0, 0.3));\n",
              "      fill: #FFFFFF;\n",
              "    }\n",
              "  </style>\n",
              "\n",
              "    <script>\n",
              "      const buttonEl =\n",
              "        document.querySelector('#df-a29a5886-1e87-4558-a3b3-2b1794c3ab4c button.colab-df-convert');\n",
              "      buttonEl.style.display =\n",
              "        google.colab.kernel.accessAllowed ? 'block' : 'none';\n",
              "\n",
              "      async function convertToInteractive(key) {\n",
              "        const element = document.querySelector('#df-a29a5886-1e87-4558-a3b3-2b1794c3ab4c');\n",
              "        const dataTable =\n",
              "          await google.colab.kernel.invokeFunction('convertToInteractive',\n",
              "                                                    [key], {});\n",
              "        if (!dataTable) return;\n",
              "\n",
              "        const docLinkHtml = 'Like what you see? Visit the ' +\n",
              "          '<a target=\"_blank\" href=https://colab.research.google.com/notebooks/data_table.ipynb>data table notebook</a>'\n",
              "          + ' to learn more about interactive tables.';\n",
              "        element.innerHTML = '';\n",
              "        dataTable['output_type'] = 'display_data';\n",
              "        await google.colab.output.renderOutput(dataTable, element);\n",
              "        const docLink = document.createElement('div');\n",
              "        docLink.innerHTML = docLinkHtml;\n",
              "        element.appendChild(docLink);\n",
              "      }\n",
              "    </script>\n",
              "  </div>\n",
              "\n",
              "\n",
              "<div id=\"df-a3b2f16c-3650-4764-af03-26201c099924\">\n",
              "  <button class=\"colab-df-quickchart\" onclick=\"quickchart('df-a3b2f16c-3650-4764-af03-26201c099924')\"\n",
              "            title=\"Suggest charts\"\n",
              "            style=\"display:none;\">\n",
              "\n",
              "<svg xmlns=\"http://www.w3.org/2000/svg\" height=\"24px\"viewBox=\"0 0 24 24\"\n",
              "     width=\"24px\">\n",
              "    <g>\n",
              "        <path d=\"M19 3H5c-1.1 0-2 .9-2 2v14c0 1.1.9 2 2 2h14c1.1 0 2-.9 2-2V5c0-1.1-.9-2-2-2zM9 17H7v-7h2v7zm4 0h-2V7h2v10zm4 0h-2v-4h2v4z\"/>\n",
              "    </g>\n",
              "</svg>\n",
              "  </button>\n",
              "\n",
              "<style>\n",
              "  .colab-df-quickchart {\n",
              "      --bg-color: #E8F0FE;\n",
              "      --fill-color: #1967D2;\n",
              "      --hover-bg-color: #E2EBFA;\n",
              "      --hover-fill-color: #174EA6;\n",
              "      --disabled-fill-color: #AAA;\n",
              "      --disabled-bg-color: #DDD;\n",
              "  }\n",
              "\n",
              "  [theme=dark] .colab-df-quickchart {\n",
              "      --bg-color: #3B4455;\n",
              "      --fill-color: #D2E3FC;\n",
              "      --hover-bg-color: #434B5C;\n",
              "      --hover-fill-color: #FFFFFF;\n",
              "      --disabled-bg-color: #3B4455;\n",
              "      --disabled-fill-color: #666;\n",
              "  }\n",
              "\n",
              "  .colab-df-quickchart {\n",
              "    background-color: var(--bg-color);\n",
              "    border: none;\n",
              "    border-radius: 50%;\n",
              "    cursor: pointer;\n",
              "    display: none;\n",
              "    fill: var(--fill-color);\n",
              "    height: 32px;\n",
              "    padding: 0;\n",
              "    width: 32px;\n",
              "  }\n",
              "\n",
              "  .colab-df-quickchart:hover {\n",
              "    background-color: var(--hover-bg-color);\n",
              "    box-shadow: 0 1px 2px rgba(60, 64, 67, 0.3), 0 1px 3px 1px rgba(60, 64, 67, 0.15);\n",
              "    fill: var(--button-hover-fill-color);\n",
              "  }\n",
              "\n",
              "  .colab-df-quickchart-complete:disabled,\n",
              "  .colab-df-quickchart-complete:disabled:hover {\n",
              "    background-color: var(--disabled-bg-color);\n",
              "    fill: var(--disabled-fill-color);\n",
              "    box-shadow: none;\n",
              "  }\n",
              "\n",
              "  .colab-df-spinner {\n",
              "    border: 2px solid var(--fill-color);\n",
              "    border-color: transparent;\n",
              "    border-bottom-color: var(--fill-color);\n",
              "    animation:\n",
              "      spin 1s steps(1) infinite;\n",
              "  }\n",
              "\n",
              "  @keyframes spin {\n",
              "    0% {\n",
              "      border-color: transparent;\n",
              "      border-bottom-color: var(--fill-color);\n",
              "      border-left-color: var(--fill-color);\n",
              "    }\n",
              "    20% {\n",
              "      border-color: transparent;\n",
              "      border-left-color: var(--fill-color);\n",
              "      border-top-color: var(--fill-color);\n",
              "    }\n",
              "    30% {\n",
              "      border-color: transparent;\n",
              "      border-left-color: var(--fill-color);\n",
              "      border-top-color: var(--fill-color);\n",
              "      border-right-color: var(--fill-color);\n",
              "    }\n",
              "    40% {\n",
              "      border-color: transparent;\n",
              "      border-right-color: var(--fill-color);\n",
              "      border-top-color: var(--fill-color);\n",
              "    }\n",
              "    60% {\n",
              "      border-color: transparent;\n",
              "      border-right-color: var(--fill-color);\n",
              "    }\n",
              "    80% {\n",
              "      border-color: transparent;\n",
              "      border-right-color: var(--fill-color);\n",
              "      border-bottom-color: var(--fill-color);\n",
              "    }\n",
              "    90% {\n",
              "      border-color: transparent;\n",
              "      border-bottom-color: var(--fill-color);\n",
              "    }\n",
              "  }\n",
              "</style>\n",
              "\n",
              "  <script>\n",
              "    async function quickchart(key) {\n",
              "      const quickchartButtonEl =\n",
              "        document.querySelector('#' + key + ' button');\n",
              "      quickchartButtonEl.disabled = true;  // To prevent multiple clicks.\n",
              "      quickchartButtonEl.classList.add('colab-df-spinner');\n",
              "      try {\n",
              "        const charts = await google.colab.kernel.invokeFunction(\n",
              "            'suggestCharts', [key], {});\n",
              "      } catch (error) {\n",
              "        console.error('Error during call to suggestCharts:', error);\n",
              "      }\n",
              "      quickchartButtonEl.classList.remove('colab-df-spinner');\n",
              "      quickchartButtonEl.classList.add('colab-df-quickchart-complete');\n",
              "    }\n",
              "    (() => {\n",
              "      let quickchartButtonEl =\n",
              "        document.querySelector('#df-a3b2f16c-3650-4764-af03-26201c099924 button');\n",
              "      quickchartButtonEl.style.display =\n",
              "        google.colab.kernel.accessAllowed ? 'block' : 'none';\n",
              "    })();\n",
              "  </script>\n",
              "</div>\n",
              "\n",
              "  <div id=\"id_9babf5b9-3f25-4b8e-a33c-9e68a21aeddd\">\n",
              "    <style>\n",
              "      .colab-df-generate {\n",
              "        background-color: #E8F0FE;\n",
              "        border: none;\n",
              "        border-radius: 50%;\n",
              "        cursor: pointer;\n",
              "        display: none;\n",
              "        fill: #1967D2;\n",
              "        height: 32px;\n",
              "        padding: 0 0 0 0;\n",
              "        width: 32px;\n",
              "      }\n",
              "\n",
              "      .colab-df-generate:hover {\n",
              "        background-color: #E2EBFA;\n",
              "        box-shadow: 0px 1px 2px rgba(60, 64, 67, 0.3), 0px 1px 3px 1px rgba(60, 64, 67, 0.15);\n",
              "        fill: #174EA6;\n",
              "      }\n",
              "\n",
              "      [theme=dark] .colab-df-generate {\n",
              "        background-color: #3B4455;\n",
              "        fill: #D2E3FC;\n",
              "      }\n",
              "\n",
              "      [theme=dark] .colab-df-generate:hover {\n",
              "        background-color: #434B5C;\n",
              "        box-shadow: 0px 1px 3px 1px rgba(0, 0, 0, 0.15);\n",
              "        filter: drop-shadow(0px 1px 2px rgba(0, 0, 0, 0.3));\n",
              "        fill: #FFFFFF;\n",
              "      }\n",
              "    </style>\n",
              "    <button class=\"colab-df-generate\" onclick=\"generateWithVariable('data')\"\n",
              "            title=\"Generate code using this dataframe.\"\n",
              "            style=\"display:none;\">\n",
              "\n",
              "  <svg xmlns=\"http://www.w3.org/2000/svg\" height=\"24px\"viewBox=\"0 0 24 24\"\n",
              "       width=\"24px\">\n",
              "    <path d=\"M7,19H8.4L18.45,9,17,7.55,7,17.6ZM5,21V16.75L18.45,3.32a2,2,0,0,1,2.83,0l1.4,1.43a1.91,1.91,0,0,1,.58,1.4,1.91,1.91,0,0,1-.58,1.4L9.25,21ZM18.45,9,17,7.55Zm-12,3A5.31,5.31,0,0,0,4.9,8.1,5.31,5.31,0,0,0,1,6.5,5.31,5.31,0,0,0,4.9,4.9,5.31,5.31,0,0,0,6.5,1,5.31,5.31,0,0,0,8.1,4.9,5.31,5.31,0,0,0,12,6.5,5.46,5.46,0,0,0,6.5,12Z\"/>\n",
              "  </svg>\n",
              "    </button>\n",
              "    <script>\n",
              "      (() => {\n",
              "      const buttonEl =\n",
              "        document.querySelector('#id_9babf5b9-3f25-4b8e-a33c-9e68a21aeddd button.colab-df-generate');\n",
              "      buttonEl.style.display =\n",
              "        google.colab.kernel.accessAllowed ? 'block' : 'none';\n",
              "\n",
              "      buttonEl.onclick = () => {\n",
              "        google.colab.notebook.generateWithVariable('data');\n",
              "      }\n",
              "      })();\n",
              "    </script>\n",
              "  </div>\n",
              "\n",
              "    </div>\n",
              "  </div>\n"
            ]
          },
          "metadata": {},
          "execution_count": 5
        }
      ],
      "source": [
        "data = shuffle(data, random_state = 42)\n",
        "data"
      ]
    },
    {
      "cell_type": "code",
      "execution_count": 6,
      "metadata": {
        "colab": {
          "base_uri": "https://localhost:8080/"
        },
        "id": "AhvgBg-W0UHE",
        "outputId": "0e2692b7-3ff3-4ebf-d8cc-4443aaefff4d"
      },
      "outputs": [
        {
          "output_type": "execute_result",
          "data": {
            "text/plain": [
              "6491     27\n",
              "2012      3\n",
              "13295    29\n",
              "11270    19\n",
              "12837    27\n",
              "         ..\n",
              "5191     20\n",
              "13418    30\n",
              "5390     21\n",
              "860      18\n",
              "7270     32\n",
              "Name: label, Length: 14190, dtype: int64"
            ]
          },
          "metadata": {},
          "execution_count": 6
        }
      ],
      "source": [
        "# Get all labels in one string\n",
        "letters = ''\n",
        "for letter in data.letter.unique():\n",
        "    letters += letter\n",
        "\n",
        "# Which letter is written on each image\n",
        "labels = data.label\n",
        "labels"
      ]
    },
    {
      "cell_type": "code",
      "execution_count": 7,
      "metadata": {
        "id": "8oF2KCBJaT2u"
      },
      "outputs": [],
      "source": [
        "def ohe_letters(label):\n",
        "    '''\n",
        "    One hot encoding for the target label\n",
        "    '''\n",
        "    resu = np.zeros(len(letters))\n",
        "    index = letters.index(label)\n",
        "    resu[index] = 1\n",
        "    return resu\n",
        "\n",
        "def ohe_backgrounds(label):\n",
        "    '''\n",
        "    One hot encoding for background column\n",
        "    '''\n",
        "    resu = np.zeros(len(data.background.unique()))\n",
        "    resu[label] = 1\n",
        "    return resu"
      ]
    },
    {
      "cell_type": "code",
      "execution_count": 8,
      "metadata": {
        "id": "GJndZWJuabHi"
      },
      "outputs": [],
      "source": [
        "data['encoded_letter'] = data['letter'].apply(lambda x:ohe_letters(x))\n",
        "data['encoded_background'] = data['background'].apply(lambda x:ohe_backgrounds(x))"
      ]
    },
    {
      "cell_type": "code",
      "execution_count": 9,
      "metadata": {
        "colab": {
          "base_uri": "https://localhost:8080/",
          "height": 206
        },
        "id": "68Q47PgIakHR",
        "outputId": "8a6d8764-630e-4e7f-dfcc-b3ba92121cf7"
      },
      "outputs": [
        {
          "output_type": "execute_result",
          "data": {
            "text/plain": [
              "      letter  label        file  background     source  \\\n",
              "6491       щ     27  27_212.png           2  letters2/   \n",
              "2012       в      3   03_53.png           2  letters2/   \n",
              "13295      ы     29  29_336.png           3  letters3/   \n",
              "11270      с     19  19_311.png           3  letters3/   \n",
              "12837      щ     27  27_278.png           3  letters3/   \n",
              "\n",
              "                                          encoded_letter    encoded_background  \n",
              "6491   [1.0, 0.0, 0.0, 0.0, 0.0, 0.0, 0.0, 0.0, 0.0, ...  [0.0, 0.0, 1.0, 0.0]  \n",
              "2012   [0.0, 1.0, 0.0, 0.0, 0.0, 0.0, 0.0, 0.0, 0.0, ...  [0.0, 0.0, 1.0, 0.0]  \n",
              "13295  [0.0, 0.0, 1.0, 0.0, 0.0, 0.0, 0.0, 0.0, 0.0, ...  [0.0, 0.0, 0.0, 1.0]  \n",
              "11270  [0.0, 0.0, 0.0, 1.0, 0.0, 0.0, 0.0, 0.0, 0.0, ...  [0.0, 0.0, 0.0, 1.0]  \n",
              "12837  [1.0, 0.0, 0.0, 0.0, 0.0, 0.0, 0.0, 0.0, 0.0, ...  [0.0, 0.0, 0.0, 1.0]  "
            ],
            "text/html": [
              "\n",
              "  <div id=\"df-64964e08-c74d-4e27-ac7b-aaa3c4aae89c\" class=\"colab-df-container\">\n",
              "    <div>\n",
              "<style scoped>\n",
              "    .dataframe tbody tr th:only-of-type {\n",
              "        vertical-align: middle;\n",
              "    }\n",
              "\n",
              "    .dataframe tbody tr th {\n",
              "        vertical-align: top;\n",
              "    }\n",
              "\n",
              "    .dataframe thead th {\n",
              "        text-align: right;\n",
              "    }\n",
              "</style>\n",
              "<table border=\"1\" class=\"dataframe\">\n",
              "  <thead>\n",
              "    <tr style=\"text-align: right;\">\n",
              "      <th></th>\n",
              "      <th>letter</th>\n",
              "      <th>label</th>\n",
              "      <th>file</th>\n",
              "      <th>background</th>\n",
              "      <th>source</th>\n",
              "      <th>encoded_letter</th>\n",
              "      <th>encoded_background</th>\n",
              "    </tr>\n",
              "  </thead>\n",
              "  <tbody>\n",
              "    <tr>\n",
              "      <th>6491</th>\n",
              "      <td>щ</td>\n",
              "      <td>27</td>\n",
              "      <td>27_212.png</td>\n",
              "      <td>2</td>\n",
              "      <td>letters2/</td>\n",
              "      <td>[1.0, 0.0, 0.0, 0.0, 0.0, 0.0, 0.0, 0.0, 0.0, ...</td>\n",
              "      <td>[0.0, 0.0, 1.0, 0.0]</td>\n",
              "    </tr>\n",
              "    <tr>\n",
              "      <th>2012</th>\n",
              "      <td>в</td>\n",
              "      <td>3</td>\n",
              "      <td>03_53.png</td>\n",
              "      <td>2</td>\n",
              "      <td>letters2/</td>\n",
              "      <td>[0.0, 1.0, 0.0, 0.0, 0.0, 0.0, 0.0, 0.0, 0.0, ...</td>\n",
              "      <td>[0.0, 0.0, 1.0, 0.0]</td>\n",
              "    </tr>\n",
              "    <tr>\n",
              "      <th>13295</th>\n",
              "      <td>ы</td>\n",
              "      <td>29</td>\n",
              "      <td>29_336.png</td>\n",
              "      <td>3</td>\n",
              "      <td>letters3/</td>\n",
              "      <td>[0.0, 0.0, 1.0, 0.0, 0.0, 0.0, 0.0, 0.0, 0.0, ...</td>\n",
              "      <td>[0.0, 0.0, 0.0, 1.0]</td>\n",
              "    </tr>\n",
              "    <tr>\n",
              "      <th>11270</th>\n",
              "      <td>с</td>\n",
              "      <td>19</td>\n",
              "      <td>19_311.png</td>\n",
              "      <td>3</td>\n",
              "      <td>letters3/</td>\n",
              "      <td>[0.0, 0.0, 0.0, 1.0, 0.0, 0.0, 0.0, 0.0, 0.0, ...</td>\n",
              "      <td>[0.0, 0.0, 0.0, 1.0]</td>\n",
              "    </tr>\n",
              "    <tr>\n",
              "      <th>12837</th>\n",
              "      <td>щ</td>\n",
              "      <td>27</td>\n",
              "      <td>27_278.png</td>\n",
              "      <td>3</td>\n",
              "      <td>letters3/</td>\n",
              "      <td>[1.0, 0.0, 0.0, 0.0, 0.0, 0.0, 0.0, 0.0, 0.0, ...</td>\n",
              "      <td>[0.0, 0.0, 0.0, 1.0]</td>\n",
              "    </tr>\n",
              "  </tbody>\n",
              "</table>\n",
              "</div>\n",
              "    <div class=\"colab-df-buttons\">\n",
              "\n",
              "  <div class=\"colab-df-container\">\n",
              "    <button class=\"colab-df-convert\" onclick=\"convertToInteractive('df-64964e08-c74d-4e27-ac7b-aaa3c4aae89c')\"\n",
              "            title=\"Convert this dataframe to an interactive table.\"\n",
              "            style=\"display:none;\">\n",
              "\n",
              "  <svg xmlns=\"http://www.w3.org/2000/svg\" height=\"24px\" viewBox=\"0 -960 960 960\">\n",
              "    <path d=\"M120-120v-720h720v720H120Zm60-500h600v-160H180v160Zm220 220h160v-160H400v160Zm0 220h160v-160H400v160ZM180-400h160v-160H180v160Zm440 0h160v-160H620v160ZM180-180h160v-160H180v160Zm440 0h160v-160H620v160Z\"/>\n",
              "  </svg>\n",
              "    </button>\n",
              "\n",
              "  <style>\n",
              "    .colab-df-container {\n",
              "      display:flex;\n",
              "      gap: 12px;\n",
              "    }\n",
              "\n",
              "    .colab-df-convert {\n",
              "      background-color: #E8F0FE;\n",
              "      border: none;\n",
              "      border-radius: 50%;\n",
              "      cursor: pointer;\n",
              "      display: none;\n",
              "      fill: #1967D2;\n",
              "      height: 32px;\n",
              "      padding: 0 0 0 0;\n",
              "      width: 32px;\n",
              "    }\n",
              "\n",
              "    .colab-df-convert:hover {\n",
              "      background-color: #E2EBFA;\n",
              "      box-shadow: 0px 1px 2px rgba(60, 64, 67, 0.3), 0px 1px 3px 1px rgba(60, 64, 67, 0.15);\n",
              "      fill: #174EA6;\n",
              "    }\n",
              "\n",
              "    .colab-df-buttons div {\n",
              "      margin-bottom: 4px;\n",
              "    }\n",
              "\n",
              "    [theme=dark] .colab-df-convert {\n",
              "      background-color: #3B4455;\n",
              "      fill: #D2E3FC;\n",
              "    }\n",
              "\n",
              "    [theme=dark] .colab-df-convert:hover {\n",
              "      background-color: #434B5C;\n",
              "      box-shadow: 0px 1px 3px 1px rgba(0, 0, 0, 0.15);\n",
              "      filter: drop-shadow(0px 1px 2px rgba(0, 0, 0, 0.3));\n",
              "      fill: #FFFFFF;\n",
              "    }\n",
              "  </style>\n",
              "\n",
              "    <script>\n",
              "      const buttonEl =\n",
              "        document.querySelector('#df-64964e08-c74d-4e27-ac7b-aaa3c4aae89c button.colab-df-convert');\n",
              "      buttonEl.style.display =\n",
              "        google.colab.kernel.accessAllowed ? 'block' : 'none';\n",
              "\n",
              "      async function convertToInteractive(key) {\n",
              "        const element = document.querySelector('#df-64964e08-c74d-4e27-ac7b-aaa3c4aae89c');\n",
              "        const dataTable =\n",
              "          await google.colab.kernel.invokeFunction('convertToInteractive',\n",
              "                                                    [key], {});\n",
              "        if (!dataTable) return;\n",
              "\n",
              "        const docLinkHtml = 'Like what you see? Visit the ' +\n",
              "          '<a target=\"_blank\" href=https://colab.research.google.com/notebooks/data_table.ipynb>data table notebook</a>'\n",
              "          + ' to learn more about interactive tables.';\n",
              "        element.innerHTML = '';\n",
              "        dataTable['output_type'] = 'display_data';\n",
              "        await google.colab.output.renderOutput(dataTable, element);\n",
              "        const docLink = document.createElement('div');\n",
              "        docLink.innerHTML = docLinkHtml;\n",
              "        element.appendChild(docLink);\n",
              "      }\n",
              "    </script>\n",
              "  </div>\n",
              "\n",
              "\n",
              "<div id=\"df-ee3c9ec4-fa5e-40b7-9454-137876be7206\">\n",
              "  <button class=\"colab-df-quickchart\" onclick=\"quickchart('df-ee3c9ec4-fa5e-40b7-9454-137876be7206')\"\n",
              "            title=\"Suggest charts\"\n",
              "            style=\"display:none;\">\n",
              "\n",
              "<svg xmlns=\"http://www.w3.org/2000/svg\" height=\"24px\"viewBox=\"0 0 24 24\"\n",
              "     width=\"24px\">\n",
              "    <g>\n",
              "        <path d=\"M19 3H5c-1.1 0-2 .9-2 2v14c0 1.1.9 2 2 2h14c1.1 0 2-.9 2-2V5c0-1.1-.9-2-2-2zM9 17H7v-7h2v7zm4 0h-2V7h2v10zm4 0h-2v-4h2v4z\"/>\n",
              "    </g>\n",
              "</svg>\n",
              "  </button>\n",
              "\n",
              "<style>\n",
              "  .colab-df-quickchart {\n",
              "      --bg-color: #E8F0FE;\n",
              "      --fill-color: #1967D2;\n",
              "      --hover-bg-color: #E2EBFA;\n",
              "      --hover-fill-color: #174EA6;\n",
              "      --disabled-fill-color: #AAA;\n",
              "      --disabled-bg-color: #DDD;\n",
              "  }\n",
              "\n",
              "  [theme=dark] .colab-df-quickchart {\n",
              "      --bg-color: #3B4455;\n",
              "      --fill-color: #D2E3FC;\n",
              "      --hover-bg-color: #434B5C;\n",
              "      --hover-fill-color: #FFFFFF;\n",
              "      --disabled-bg-color: #3B4455;\n",
              "      --disabled-fill-color: #666;\n",
              "  }\n",
              "\n",
              "  .colab-df-quickchart {\n",
              "    background-color: var(--bg-color);\n",
              "    border: none;\n",
              "    border-radius: 50%;\n",
              "    cursor: pointer;\n",
              "    display: none;\n",
              "    fill: var(--fill-color);\n",
              "    height: 32px;\n",
              "    padding: 0;\n",
              "    width: 32px;\n",
              "  }\n",
              "\n",
              "  .colab-df-quickchart:hover {\n",
              "    background-color: var(--hover-bg-color);\n",
              "    box-shadow: 0 1px 2px rgba(60, 64, 67, 0.3), 0 1px 3px 1px rgba(60, 64, 67, 0.15);\n",
              "    fill: var(--button-hover-fill-color);\n",
              "  }\n",
              "\n",
              "  .colab-df-quickchart-complete:disabled,\n",
              "  .colab-df-quickchart-complete:disabled:hover {\n",
              "    background-color: var(--disabled-bg-color);\n",
              "    fill: var(--disabled-fill-color);\n",
              "    box-shadow: none;\n",
              "  }\n",
              "\n",
              "  .colab-df-spinner {\n",
              "    border: 2px solid var(--fill-color);\n",
              "    border-color: transparent;\n",
              "    border-bottom-color: var(--fill-color);\n",
              "    animation:\n",
              "      spin 1s steps(1) infinite;\n",
              "  }\n",
              "\n",
              "  @keyframes spin {\n",
              "    0% {\n",
              "      border-color: transparent;\n",
              "      border-bottom-color: var(--fill-color);\n",
              "      border-left-color: var(--fill-color);\n",
              "    }\n",
              "    20% {\n",
              "      border-color: transparent;\n",
              "      border-left-color: var(--fill-color);\n",
              "      border-top-color: var(--fill-color);\n",
              "    }\n",
              "    30% {\n",
              "      border-color: transparent;\n",
              "      border-left-color: var(--fill-color);\n",
              "      border-top-color: var(--fill-color);\n",
              "      border-right-color: var(--fill-color);\n",
              "    }\n",
              "    40% {\n",
              "      border-color: transparent;\n",
              "      border-right-color: var(--fill-color);\n",
              "      border-top-color: var(--fill-color);\n",
              "    }\n",
              "    60% {\n",
              "      border-color: transparent;\n",
              "      border-right-color: var(--fill-color);\n",
              "    }\n",
              "    80% {\n",
              "      border-color: transparent;\n",
              "      border-right-color: var(--fill-color);\n",
              "      border-bottom-color: var(--fill-color);\n",
              "    }\n",
              "    90% {\n",
              "      border-color: transparent;\n",
              "      border-bottom-color: var(--fill-color);\n",
              "    }\n",
              "  }\n",
              "</style>\n",
              "\n",
              "  <script>\n",
              "    async function quickchart(key) {\n",
              "      const quickchartButtonEl =\n",
              "        document.querySelector('#' + key + ' button');\n",
              "      quickchartButtonEl.disabled = true;  // To prevent multiple clicks.\n",
              "      quickchartButtonEl.classList.add('colab-df-spinner');\n",
              "      try {\n",
              "        const charts = await google.colab.kernel.invokeFunction(\n",
              "            'suggestCharts', [key], {});\n",
              "      } catch (error) {\n",
              "        console.error('Error during call to suggestCharts:', error);\n",
              "      }\n",
              "      quickchartButtonEl.classList.remove('colab-df-spinner');\n",
              "      quickchartButtonEl.classList.add('colab-df-quickchart-complete');\n",
              "    }\n",
              "    (() => {\n",
              "      let quickchartButtonEl =\n",
              "        document.querySelector('#df-ee3c9ec4-fa5e-40b7-9454-137876be7206 button');\n",
              "      quickchartButtonEl.style.display =\n",
              "        google.colab.kernel.accessAllowed ? 'block' : 'none';\n",
              "    })();\n",
              "  </script>\n",
              "</div>\n",
              "\n",
              "    </div>\n",
              "  </div>\n"
            ]
          },
          "metadata": {},
          "execution_count": 9
        }
      ],
      "source": [
        "data.head()"
      ]
    },
    {
      "cell_type": "code",
      "execution_count": null,
      "metadata": {
        "id": "67JKiOkrdJpu"
      },
      "outputs": [],
      "source": [
        "# Store all png images into one numpy array\n",
        "images = []\n",
        "# Will be the target\n",
        "encoded_labels = []\n",
        "\n",
        "backgrounds = []\n",
        "encoded_backgrounds = []\n",
        "\n",
        "# I want to be sure that every image is consitent\n",
        "for i, row in data.iterrows():\n",
        "    img_name = row['file']\n",
        "    numpy_image = cv2.imread(os.path.join(PATH_TO_DATA + row['source'], img_name))\n",
        "    if numpy_image is not None and numpy_image.shape == (32, 32, 3):\n",
        "        print(len(images))\n",
        "        images.append(numpy_image)\n",
        "        encoded_labels.append(row['encoded_letter'])\n",
        "        backgrounds.append(row['background'])\n",
        "        encoded_backgrounds.append(row['encoded_background'])\n",
        "\n",
        "# Normalize array of images\n",
        "images = np.array(images)/255"
      ]
    },
    {
      "cell_type": "markdown",
      "metadata": {
        "id": "k4Rlln4ZDKEX"
      },
      "source": [
        "##Question 3\n",
        "####Perform EDA on the datsaet to understand the data."
      ]
    },
    {
      "cell_type": "code",
      "execution_count": 28,
      "metadata": {
        "id": "6SpAdCDSiVOv"
      },
      "outputs": [],
      "source": [
        "def display_image(images_list, list_of_labels = np.arange(9)):\n",
        "\n",
        "    # plot first few images\n",
        "    plt.figure(figsize=(12,12))\n",
        "    for index in list_of_labels:\n",
        "\n",
        "        # Get corresponding label\n",
        "        ohe_label = encoded_labels[index]\n",
        "        index_letter = list(ohe_label).index(1)\n",
        "        associated_letter = letters[index_letter]\n",
        "\n",
        "        # Get background\n",
        "        associated_background = backgrounds[index]\n",
        "\n",
        "\n",
        "        # define subplot\n",
        "        plt.subplot(330 + 1 + index)\n",
        "        plt.title('Label: %s \\n'%associated_letter+\\\n",
        "                 'Background: %s\\n'%associated_background,\n",
        "                 fontsize=18)\n",
        "        # plot raw pixel data\n",
        "        plt.imshow(images[index])\n",
        "\n",
        "    plt.subplots_adjust(bottom = 0.001)  # the bottom of the subplots of the figure\n",
        "    plt.subplots_adjust(top = 0.99)\n",
        "    # show the figure\n",
        "    plt.show()"
      ]
    },
    {
      "cell_type": "code",
      "execution_count": null,
      "metadata": {
        "id": "box5ydDfDPtb"
      },
      "outputs": [],
      "source": [
        "display_image(images)"
      ]
    },
    {
      "cell_type": "markdown",
      "metadata": {
        "id": "56LDVT03DRIn"
      },
      "source": [
        "##Question 4\n",
        "####Extract the information to train the model from the dataset."
      ]
    },
    {
      "cell_type": "code",
      "execution_count": 29,
      "metadata": {
        "id": "AUlBrq1nDuKJ"
      },
      "outputs": [],
      "source": [
        "# Define X_data and target\n",
        "X = np.array(images.copy())\n",
        "y = np.array(encoded_labels.copy())\n",
        "\n",
        "# Stratified train_test split on labels\n",
        "X_train, X_val, y_train, y_val = train_test_split(X, y,\n",
        "                                                  test_size=.2,\n",
        "                                                  stratify = y,\n",
        "                                                  random_state=42)"
      ]
    },
    {
      "cell_type": "markdown",
      "metadata": {
        "id": "XPSxq0zADvlN"
      },
      "source": [
        "##Question 5\n",
        "####Train the CNN model."
      ]
    },
    {
      "cell_type": "code",
      "execution_count": 30,
      "metadata": {
        "id": "jRQyqYZID3yH"
      },
      "outputs": [],
      "source": [
        "# Define image dimensions\n",
        "IMG_ROWS = 32\n",
        "IMG_COLS = 32\n",
        "# 3 stands for RGB images, 1 if greyscaled images\n",
        "INPUT_SHAPE = (IMG_ROWS, IMG_COLS, 3)\n",
        "\n",
        "# Number of classes to consider\n",
        "NUM_CLASSES = len(letters)\n",
        "# Group of training samples\n",
        "BATCH_SIZE = 64\n",
        "# Number of complete presentations of the dataset to be learned\n",
        "EPOCHS = 10"
      ]
    },
    {
      "cell_type": "code",
      "execution_count": 31,
      "metadata": {
        "id": "-Zkq1ZqZirbN"
      },
      "outputs": [],
      "source": [
        "def top_3_categorical_accuracy(y_true, y_pred):\n",
        "    return top_k_categorical_accuracy(y_true, y_pred, k=3)"
      ]
    },
    {
      "cell_type": "code",
      "execution_count": 32,
      "metadata": {
        "id": "yv88Uqkxit6r"
      },
      "outputs": [],
      "source": [
        "def CNN_model(activation = 'softmax',\n",
        "              loss = 'categorical_crossentropy',\n",
        "              optimizer = 'adam',\n",
        "              metrics = ['accuracy', top_3_categorical_accuracy]):\n",
        "\n",
        "    model = Sequential()\n",
        "    model.add(Conv2D(32, kernel_size = (3, 3),\n",
        "                     activation = 'relu',\n",
        "                     input_shape = INPUT_SHAPE))\n",
        "    model.add(Conv2D(64, (3, 3), activation = 'relu'))\n",
        "    model.add(Conv2D(128, (4, 4), activation = 'relu'))\n",
        "    model.add(MaxPooling2D(pool_size = (2, 2)))\n",
        "    model.add(Dropout(0.25))\n",
        "    model.add(Flatten())\n",
        "    model.add(Dense(128, activation = 'relu'))\n",
        "    model.add(Dropout(0.25))\n",
        "    model.add(Dense(NUM_CLASSES, activation = activation))\n",
        "\n",
        "    # Compile the model\n",
        "    model.compile(loss = loss,\n",
        "                  optimizer = optimizer,\n",
        "                  metrics = metrics)\n",
        "\n",
        "    return model"
      ]
    },
    {
      "cell_type": "code",
      "execution_count": 33,
      "metadata": {
        "colab": {
          "base_uri": "https://localhost:8080/"
        },
        "id": "Fw99-_1Bi7z6",
        "outputId": "bb017e78-10c0-49e0-8276-5100de7ab125"
      },
      "outputs": [
        {
          "output_type": "stream",
          "name": "stdout",
          "text": [
            "Epoch 1/10\n",
            "178/178 [==============================] - ETA: 0s - loss: 3.4398 - accuracy: 0.0472 - top_3_categorical_accuracy: 0.1336\n",
            "Epoch 1: val_loss improved from inf to 3.30865, saving model to weights.best.letters.hdf5\n",
            "178/178 [==============================] - 9s 18ms/step - loss: 3.4398 - accuracy: 0.0472 - top_3_categorical_accuracy: 0.1336 - val_loss: 3.3087 - val_accuracy: 0.0825 - val_top_3_categorical_accuracy: 0.2207 - lr: 0.0010\n",
            "Epoch 2/10\n",
            "177/178 [============================>.] - ETA: 0s - loss: 2.7933 - accuracy: 0.2179 - top_3_categorical_accuracy: 0.4283\n",
            "Epoch 2: val_loss improved from 3.30865 to 2.20269, saving model to weights.best.letters.hdf5\n",
            "178/178 [==============================] - 2s 14ms/step - loss: 2.7934 - accuracy: 0.2176 - top_3_categorical_accuracy: 0.4284 - val_loss: 2.2027 - val_accuracy: 0.3850 - val_top_3_categorical_accuracy: 0.6273 - lr: 0.0010\n",
            "Epoch 3/10\n",
            "175/178 [============================>.] - ETA: 0s - loss: 2.2541 - accuracy: 0.3519 - top_3_categorical_accuracy: 0.5987\n",
            "Epoch 3: val_loss improved from 2.20269 to 1.84470, saving model to weights.best.letters.hdf5\n",
            "178/178 [==============================] - 2s 14ms/step - loss: 2.2531 - accuracy: 0.3517 - top_3_categorical_accuracy: 0.5991 - val_loss: 1.8447 - val_accuracy: 0.4855 - val_top_3_categorical_accuracy: 0.7126 - lr: 0.0010\n",
            "Epoch 4/10\n",
            "174/178 [============================>.] - ETA: 0s - loss: 1.9205 - accuracy: 0.4511 - top_3_categorical_accuracy: 0.6887\n",
            "Epoch 4: val_loss improved from 1.84470 to 1.52451, saving model to weights.best.letters.hdf5\n",
            "178/178 [==============================] - 2s 14ms/step - loss: 1.9185 - accuracy: 0.4521 - top_3_categorical_accuracy: 0.6894 - val_loss: 1.5245 - val_accuracy: 0.5762 - val_top_3_categorical_accuracy: 0.7750 - lr: 0.0010\n",
            "Epoch 5/10\n",
            "174/178 [============================>.] - ETA: 0s - loss: 1.6130 - accuracy: 0.5327 - top_3_categorical_accuracy: 0.7601\n",
            "Epoch 5: val_loss improved from 1.52451 to 1.27246, saving model to weights.best.letters.hdf5\n",
            "178/178 [==============================] - 2s 14ms/step - loss: 1.6093 - accuracy: 0.5343 - top_3_categorical_accuracy: 0.7608 - val_loss: 1.2725 - val_accuracy: 0.6456 - val_top_3_categorical_accuracy: 0.8262 - lr: 0.0010\n",
            "Epoch 6/10\n",
            "175/178 [============================>.] - ETA: 0s - loss: 1.4028 - accuracy: 0.5881 - top_3_categorical_accuracy: 0.8003\n",
            "Epoch 6: val_loss improved from 1.27246 to 1.19172, saving model to weights.best.letters.hdf5\n",
            "178/178 [==============================] - 2s 14ms/step - loss: 1.4011 - accuracy: 0.5891 - top_3_categorical_accuracy: 0.8008 - val_loss: 1.1917 - val_accuracy: 0.6678 - val_top_3_categorical_accuracy: 0.8530 - lr: 0.0010\n",
            "Epoch 7/10\n",
            "177/178 [============================>.] - ETA: 0s - loss: 1.2043 - accuracy: 0.6417 - top_3_categorical_accuracy: 0.8416\n",
            "Epoch 7: val_loss improved from 1.19172 to 1.00275, saving model to weights.best.letters.hdf5\n",
            "178/178 [==============================] - 2s 14ms/step - loss: 1.2048 - accuracy: 0.6416 - top_3_categorical_accuracy: 0.8414 - val_loss: 1.0027 - val_accuracy: 0.7112 - val_top_3_categorical_accuracy: 0.8836 - lr: 0.0010\n",
            "Epoch 8/10\n",
            "176/178 [============================>.] - ETA: 0s - loss: 1.0870 - accuracy: 0.6753 - top_3_categorical_accuracy: 0.8653\n",
            "Epoch 8: val_loss improved from 1.00275 to 0.91539, saving model to weights.best.letters.hdf5\n",
            "178/178 [==============================] - 2s 14ms/step - loss: 1.0869 - accuracy: 0.6754 - top_3_categorical_accuracy: 0.8653 - val_loss: 0.9154 - val_accuracy: 0.7451 - val_top_3_categorical_accuracy: 0.8946 - lr: 0.0010\n",
            "Epoch 9/10\n",
            "176/178 [============================>.] - ETA: 0s - loss: 0.9844 - accuracy: 0.6986 - top_3_categorical_accuracy: 0.8827\n",
            "Epoch 9: val_loss improved from 0.91539 to 0.85566, saving model to weights.best.letters.hdf5\n",
            "178/178 [==============================] - 2s 14ms/step - loss: 0.9838 - accuracy: 0.6985 - top_3_categorical_accuracy: 0.8831 - val_loss: 0.8557 - val_accuracy: 0.7613 - val_top_3_categorical_accuracy: 0.9044 - lr: 0.0010\n",
            "Epoch 10/10\n",
            "177/178 [============================>.] - ETA: 0s - loss: 0.9255 - accuracy: 0.7168 - top_3_categorical_accuracy: 0.8972\n",
            "Epoch 10: val_loss improved from 0.85566 to 0.80703, saving model to weights.best.letters.hdf5\n",
            "178/178 [==============================] - 2s 14ms/step - loss: 0.9250 - accuracy: 0.7170 - top_3_categorical_accuracy: 0.8973 - val_loss: 0.8070 - val_accuracy: 0.7666 - val_top_3_categorical_accuracy: 0.9122 - lr: 0.0010\n"
          ]
        }
      ],
      "source": [
        "# Init CNN model\n",
        "cnn_model = CNN_model()\n",
        "\n",
        "# Save weights only for best model\n",
        "checkpointer = ModelCheckpoint(filepath = 'weights.best.letters.hdf5',\n",
        "                               verbose = 2,\n",
        "                               save_best_only = True)\n",
        "\n",
        "# Reduce learning rate when a metric has stopped improving\n",
        "lr_reduction = ReduceLROnPlateau(monitor='val_loss',\n",
        "                                 patience=10,\n",
        "                                 verbose=2,\n",
        "                                 factor=.75)\n",
        "\n",
        "# If score doesn't improve during patience=20 epochs, stop learning\n",
        "estopping = EarlyStopping(monitor='val_loss',\n",
        "                          patience=20,\n",
        "                          verbose=2)\n",
        "\n",
        "# Training\n",
        "history = cnn_model.fit(X_train, y_train,\n",
        "                        batch_size = BATCH_SIZE,\n",
        "                        epochs = EPOCHS,\n",
        "                        verbose = 1,\n",
        "                        validation_data = (X_val, y_val),\n",
        "                        callbacks = [checkpointer, lr_reduction, estopping])"
      ]
    },
    {
      "cell_type": "markdown",
      "metadata": {
        "id": "Itq1aALMD5Vb"
      },
      "source": [
        "##Question 6\n",
        "####Plot the prediction vs true label to check the labels."
      ]
    },
    {
      "cell_type": "code",
      "execution_count": 34,
      "metadata": {
        "id": "w0moHSmsjAFE",
        "colab": {
          "base_uri": "https://localhost:8080/"
        },
        "outputId": "7478fceb-06b5-41fa-b4a8-f9ce2b3fd681"
      },
      "outputs": [
        {
          "output_type": "stream",
          "name": "stdout",
          "text": [
            "89/89 [==============================] - 1s 4ms/step - loss: 0.8070 - accuracy: 0.7666 - top_3_categorical_accuracy: 0.9122\n"
          ]
        },
        {
          "output_type": "execute_result",
          "data": {
            "text/plain": [
              "[0.8070281744003296, 0.7665726542472839, 0.9122002720832825]"
            ]
          },
          "metadata": {},
          "execution_count": 34
        }
      ],
      "source": [
        "# loading the model with the best validation accuracy\n",
        "cnn_model.load_weights('weights.best.letters.hdf5')\n",
        "cnn_model.evaluate(X_val, y_val)"
      ]
    },
    {
      "cell_type": "code",
      "execution_count": 35,
      "metadata": {
        "id": "Zlp62nNFjBjz"
      },
      "outputs": [],
      "source": [
        "def load_image(path_filename):\n",
        "\t# load the image\n",
        "\timg = load_img(path_filename, target_size=(32, 32))\n",
        "\t# convert to array\n",
        "\timg = img_to_array(img)\n",
        "\t# reshape into a single sample with 1 channel\n",
        "\timg = img.reshape(1, 32, 32, 3)\n",
        "\t# prepare pixel data\n",
        "\timg = img.astype('float32')\n",
        "\timg = img / 255.0\n",
        "\treturn img"
      ]
    },
    {
      "cell_type": "code",
      "execution_count": 36,
      "metadata": {
        "id": "lTcV3i3ijDT3"
      },
      "outputs": [],
      "source": [
        "def get_true_label(path_filename, dataframe, column_to_get):\n",
        "    filename = os.path.basename(os.path.normpath(path_filename))\n",
        "    index_row = data[data['file']==filename].index[0]\n",
        "    return data.loc[index_row, column_to_get]"
      ]
    },
    {
      "cell_type": "code",
      "execution_count": 37,
      "metadata": {
        "id": "0PO4ZYVEjFDF"
      },
      "outputs": [],
      "source": [
        "img = load_image(PATH_TO_DATA+'letters3/01_235.png')"
      ]
    },
    {
      "cell_type": "code",
      "execution_count": 38,
      "metadata": {
        "id": "5letuomSjHTS",
        "colab": {
          "base_uri": "https://localhost:8080/",
          "height": 466
        },
        "outputId": "914f49e2-e47f-4d2e-d8ab-a172164ade46"
      },
      "outputs": [
        {
          "output_type": "stream",
          "name": "stdout",
          "text": [
            "1/1 [==============================] - 0s 300ms/step\n",
            "true label: а\n"
          ]
        },
        {
          "output_type": "display_data",
          "data": {
            "text/plain": [
              "<Figure size 640x480 with 1 Axes>"
            ],
            "image/png": "[encoded data removed]"
          },
          "metadata": {}
        }
      ],
      "source": [
        "# predict the class\n",
        "a_letter = cnn_model.predict(img)\n",
        "\n",
        "plt.imshow(img[0])\n",
        "print('true label:', get_true_label(PATH_TO_DATA+'letters3/01_235.png', data, 'letter'))"
      ]
    },
    {
      "cell_type": "code",
      "execution_count": 39,
      "metadata": {
        "id": "Pjj2IOmtEBFo"
      },
      "outputs": [],
      "source": [
        "def load_random_images(number_of_images_to_load = 9):\n",
        "    images = []\n",
        "    true_labels = []\n",
        "    true_backgrounds = []\n",
        "\n",
        "    which_folder = [random.randint(1,3) for _ in range(number_of_images_to_load)]\n",
        "    for index_folder in which_folder:\n",
        "        if index_folder == 1:\n",
        "            path = PATH_TO_DATA+'letters/'\n",
        "        else:\n",
        "            path = PATH_TO_DATA+'letters'+str(index_folder)+'/'\n",
        "        nb_files = len(os.listdir(path))\n",
        "\n",
        "        index_image = random.randint(0, len(os.listdir(path)))\n",
        "\n",
        "        image = load_image(path + os.listdir(path)[index_image])\n",
        "        label = get_true_label(path + os.listdir(path)[index_image], data, 'letter')\n",
        "        background = get_true_label(path + os.listdir(path)[index_image], data, 'background')\n",
        "\n",
        "        images.append(image)\n",
        "        true_labels.append(label)\n",
        "        true_backgrounds.append(background)\n",
        "\n",
        "    return images, true_labels, true_backgrounds"
      ]
    },
    {
      "cell_type": "code",
      "source": [
        "def classes_predictions(images_list_to_classify, true_labels, model):\n",
        "\n",
        "    # plot first few images\n",
        "    plt.figure(figsize=(12,12))\n",
        "    for index, image in enumerate(images_list_to_classify):\n",
        "\n",
        "        #a_letter = model.predict(image)\n",
        "        #letter_arr = np.array([a_letter])\n",
        "        #associated_letter = letters[int(letter_arr[0])]\n",
        "\n",
        "        # define subplot\n",
        "        plt.subplot(330 + 1 + index)\n",
        "        plt.title('True Label: %s\\n'%true_labels[index],\n",
        "                 fontsize=18)\n",
        "        # plot raw pixel data\n",
        "        plt.imshow(image[0])\n",
        "\n",
        "    plt.subplots_adjust(bottom = 0.001)  # the bottom of the subplots of the figure\n",
        "    plt.subplots_adjust(top = 0.99)\n",
        "\n",
        "    # show the figure\n",
        "    plt.show()"
      ],
      "metadata": {
        "id": "0oBHoJV7Y-e6"
      },
      "execution_count": 40,
      "outputs": []
    },
    {
      "cell_type": "code",
      "source": [
        "test_images, true_labels, true_backgrounds = load_random_images()"
      ],
      "metadata": {
        "id": "4NzV3QX8ZAnh"
      },
      "execution_count": 41,
      "outputs": []
    },
    {
      "cell_type": "code",
      "source": [
        "classes_predictions(test_images, true_labels, cnn_model)"
      ],
      "metadata": {
        "colab": {
          "base_uri": "https://localhost:8080/",
          "height": 1000
        },
        "id": "YVq7NgSTZWZ2",
        "outputId": "10fbf61c-f63e-4f35-ca59-8dc9009b8914"
      },
      "execution_count": 42,
      "outputs": [
        {
          "output_type": "display_data",
          "data": {
            "text/plain": [
              "<Figure size 1200x1200 with 9 Axes>"
            ],
            "image/png": "[encoded data removed]"
          },
          "metadata": {}
        }
      ]
    }
  ],
  "metadata": {
    "colab": {
      "provenance": [],
      "machine_shape": "hm",
      "gpuType": "T4",
      "include_colab_link": true
    },
    "kernelspec": {
      "display_name": "Python 3",
      "name": "python3"
    },
    "language_info": {
      "name": "python"
    },
    "accelerator": "GPU"
  },
  "nbformat": 4,
  "nbformat_minor": 0
}