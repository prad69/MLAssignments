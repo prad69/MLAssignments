{
  "nbformat": 4,
  "nbformat_minor": 0,
  "metadata": {
    "colab": {
      "provenance": [],
      "authorship_tag": "ABX9TyPBRcZxkfqCoCFXM1rv+68z",
      "include_colab_link": true
    },
    "kernelspec": {
      "name": "python3",
      "display_name": "Python 3"
    },
    "language_info": {
      "name": "python"
    }
  },
  "cells": [
    {
      "cell_type": "markdown",
      "metadata": {
        "id": "view-in-github",
        "colab_type": "text"
      },
      "source": [
        "<a href=\"https://colab.research.google.com/github/prad69/MLAssignments/blob/main/Assignment_Essentials_of_Statistics_I.ipynb\" target=\"_parent\"><img src=\"https://colab.research.google.com/assets/colab-badge.svg\" alt=\"Open In Colab\"/></a>"
      ]
    },
    {
      "cell_type": "markdown",
      "source": [
        "https://drive.google.com/file/d/1K_mZR3EBRtuYsKCDJx5sJpK5GPz8CAXz/view\n",
        "\n",
        "\n",
        "\n",
        "solution notebook\n",
        "\n",
        "https://colab.research.google.com/drive/1ZMgnA7Fr5B9GMBgihAqaGqLh9IZJ4aJ7\n",
        "\n"
      ],
      "metadata": {
        "id": "sfJhcyRjdqSI"
      }
    },
    {
      "cell_type": "code",
      "execution_count": null,
      "metadata": {
        "id": "aH3pxP9cQaKD"
      },
      "outputs": [],
      "source": [
        "import pandas as pd\n",
        "import numpy as np\n",
        "from scipy import stats\n",
        "import seaborn as sb\n"
      ]
    },
    {
      "cell_type": "code",
      "source": [
        "# Write a code in python to find\n",
        "#i. Mean\n",
        "#ii. Median\n",
        "#iii. Mode\n",
        "#iv. Standard deviation\n",
        "#v. Interquartile range\n",
        "\n",
        "data = [25, 37, 24, 28, 2, 35, 22 ,31, 53, 41, 64, 29, 120, 72, 2]\n",
        "\n",
        "mean = np.mean(data)\n",
        "print(\"mean--->\",mean)\n",
        "\n",
        "median = np.median(data)\n",
        "print(\"median -->\",median)\n",
        "\n",
        "mode = stats.mode(data,keepdims='false')\n",
        "print(\"mode-->\" ,mode)\n",
        "\n",
        "stddev = np.std(data)\n",
        "print(\"std dev--->\",stddev)"
      ],
      "metadata": {
        "colab": {
          "base_uri": "https://localhost:8080/"
        },
        "id": "NSnD4jHEQh5U",
        "outputId": "7a1b4113-dcdc-4ec0-8b75-73aac385f65c"
      },
      "execution_count": null,
      "outputs": [
        {
          "output_type": "stream",
          "name": "stdout",
          "text": [
            "mean---> 39.0\n",
            "median --> 31.0\n",
            "mode--> ModeResult(mode=array([2]), count=array([2]))\n",
            "std dev---> 28.55170747958868\n"
          ]
        }
      ]
    },
    {
      "cell_type": "code",
      "source": [
        "IQR = stats.iqr(data, interpolation = 'midpoint')\n",
        "print(\"IQR-->\",IQR)\n"
      ],
      "metadata": {
        "colab": {
          "base_uri": "https://localhost:8080/"
        },
        "id": "oqbJ2rjaVGYr",
        "outputId": "490ae313-d8f3-4209-c3e8-67c31a47a5b1"
      },
      "execution_count": null,
      "outputs": [
        {
          "output_type": "stream",
          "name": "stdout",
          "text": [
            "IQR--> 22.5\n"
          ]
        }
      ]
    },
    {
      "cell_type": "code",
      "source": [
        "data1 = np.array(data)\n",
        "q1, q3 = np.percentile(data, [25, 75])\n",
        "iqr = q3 - q1\n",
        "\n",
        "\n",
        "#print(IQR)\n",
        "# outliers\n",
        "\n",
        "lower_bound = q1 - 1.5*iqr\n",
        "upper_bound = q3 + 1.5*iqr\n",
        "#create conditions to isolate the outliers\n",
        "outliers = data1[(data1 < lower_bound) | (data1 > upper_bound)]\n",
        "print(outliers)"
      ],
      "metadata": {
        "colab": {
          "base_uri": "https://localhost:8080/"
        },
        "id": "wOjLdR-HVrWz",
        "outputId": "4002d4d8-8999-4527-828b-fcdc70ab8673"
      },
      "execution_count": null,
      "outputs": [
        {
          "output_type": "stream",
          "name": "stdout",
          "text": [
            "[120]\n"
          ]
        }
      ]
    },
    {
      "cell_type": "code",
      "source": [
        "#boxplot\n",
        "sb.boxplot(data1)"
      ],
      "metadata": {
        "colab": {
          "base_uri": "https://localhost:8080/",
          "height": 448
        },
        "id": "xpN3cIczZ8jO",
        "outputId": "fa05ac5d-ade4-49d4-95ab-6f80ad7dab60"
      },
      "execution_count": null,
      "outputs": [
        {
          "output_type": "execute_result",
          "data": {
            "text/plain": [
              "<Axes: >"
            ]
          },
          "metadata": {},
          "execution_count": 27
        },
        {
          "output_type": "display_data",
          "data": {
            "text/plain": [
              "<Figure size 640x480 with 1 Axes>"
            ],
            "image/png": "[encoded data removed]"
          },
          "metadata": {}
        }
      ]
    },
    {
      "cell_type": "code",
      "source": [
        "#Generate exponential distribution in Python using scipy library using rate=25 and sample size=100.\n",
        "#a. Plot a histogram of the the above distribution\n",
        "#b. Calculate probability that x is less than 50 when the mean rate is 25\n",
        "\n",
        "\n"
      ],
      "metadata": {
        "id": "77iqTXhFcQ81"
      },
      "execution_count": null,
      "outputs": []
    },
    {
      "cell_type": "markdown",
      "source": [
        "John is visiting planet Utopia and he figures out that the population is 1 million.\n",
        "Utopians are very tall and their height varies between 180 cm and 250 cm. John\n",
        "tries to estimate the population size by randomly identifying 10000 people n times\n",
        "and finds their mean heights. Can you help John do the following using python:\n",
        "a. Generate population samples of size 10000 with height between 180 cm and\n",
        "250 cm by varying n(number of times you identify 10000 random people) as\n",
        "following\n",
        "i. 5\n",
        "ii. 10\n",
        "iii. 100\n",
        "iv. 1000\n",
        "v. 10000\n",
        "b. Plot histogram of the population means\n",
        "\n",
        "c. Does the population mean approach normal distribution as the sample size\n",
        "increases?"
      ],
      "metadata": {
        "id": "T2lWKPiDxKXc"
      }
    },
    {
      "cell_type": "code",
      "source": [
        "import numpy\n",
        "\n",
        "\n",
        "sample_list = []\n",
        "\n",
        "for i in [5,10,100,1000,10000]:\n",
        "    rand_list = numpy.random.randint(180,250, 10000)\n",
        "    sample_list.append(sum(rand_list)/10000)\n"
      ],
      "metadata": {
        "colab": {
          "base_uri": "https://localhost:8080/"
        },
        "id": "OAPya7HYxM8-",
        "outputId": "e13ad3dd-14a8-4b15-a791-2b8073c1212b"
      },
      "execution_count": null,
      "outputs": [
        {
          "output_type": "stream",
          "name": "stdout",
          "text": [
            " 5 [214.2997]\n",
            " 10 [214.2997, 214.3265]\n",
            " 100 [214.2997, 214.3265, 214.3712]\n",
            " 1000 [214.2997, 214.3265, 214.3712, 214.5352]\n",
            " 10000 [214.2997, 214.3265, 214.3712, 214.5352, 214.5907]\n"
          ]
        }
      ]
    },
    {
      "cell_type": "markdown",
      "source": [],
      "metadata": {
        "id": "Eau4R6zkxMm4"
      }
    },
    {
      "cell_type": "code",
      "source": [],
      "metadata": {
        "id": "7ie6E9P3dc6z"
      },
      "execution_count": null,
      "outputs": []
    },
    {
      "cell_type": "markdown",
      "source": [
        "Observe the dataset below and write a python code to compute following"
      ],
      "metadata": {
        "id": "rExeGbto1bdE"
      }
    },
    {
      "cell_type": "code",
      "source": [
        "import pandas as pd\n",
        "import matplotlib.pyplot as plt\n",
        "from sklearn import preprocessing\n",
        "import seaborn as sns\n",
        "\n",
        "iris = pd.read_csv(\"/content/sample_data/iris-3.csv\")\n",
        "print(iris.head())\n",
        "\n",
        "# plotting a scatterplot using seaborn\n",
        "sns.scatterplot(data=iris, x='sepal_length',\n",
        "                y='petal_width', hue='species')\n",
        "plt.plot()"
      ],
      "metadata": {
        "id": "knv9gl0w1cwt"
      },
      "execution_count": null,
      "outputs": []
    },
    {
      "cell_type": "code",
      "source": [
        "iris.cov()\n",
        "df.corr(method='pearson')"
      ],
      "metadata": {
        "colab": {
          "base_uri": "https://localhost:8080/",
          "height": 231
        },
        "id": "yAJdmT5GgfaB",
        "outputId": "3debfed6-9107-4b58-e0b6-99db67decbee"
      },
      "execution_count": null,
      "outputs": [
        {
          "output_type": "stream",
          "name": "stderr",
          "text": [
            "<ipython-input-46-8fba02860a90>:1: FutureWarning: The default value of numeric_only in DataFrame.cov is deprecated. In a future version, it will default to False. Select only valid columns or specify the value of numeric_only to silence this warning.\n",
            "  iris.cov()\n"
          ]
        },
        {
          "output_type": "execute_result",
          "data": {
            "text/plain": [
              "              sepal_length  sepal_width  petal_length  petal_width\n",
              "sepal_length      0.685694    -0.039268      1.273682     0.516904\n",
              "sepal_width      -0.039268     0.188004     -0.321713    -0.117981\n",
              "petal_length      1.273682    -0.321713      3.113179     1.296387\n",
              "petal_width       0.516904    -0.117981      1.296387     0.582414"
            ],
            "text/html": [
              "\n",
              "  <div id=\"df-8131ff45-24b8-4508-b722-7ebc781069c5\" class=\"colab-df-container\">\n",
              "    <div>\n",
              "<style scoped>\n",
              "    .dataframe tbody tr th:only-of-type {\n",
              "        vertical-align: middle;\n",
              "    }\n",
              "\n",
              "    .dataframe tbody tr th {\n",
              "        vertical-align: top;\n",
              "    }\n",
              "\n",
              "    .dataframe thead th {\n",
              "        text-align: right;\n",
              "    }\n",
              "</style>\n",
              "<table border=\"1\" class=\"dataframe\">\n",
              "  <thead>\n",
              "    <tr style=\"text-align: right;\">\n",
              "      <th></th>\n",
              "      <th>sepal_length</th>\n",
              "      <th>sepal_width</th>\n",
              "      <th>petal_length</th>\n",
              "      <th>petal_width</th>\n",
              "    </tr>\n",
              "  </thead>\n",
              "  <tbody>\n",
              "    <tr>\n",
              "      <th>sepal_length</th>\n",
              "      <td>0.685694</td>\n",
              "      <td>-0.039268</td>\n",
              "      <td>1.273682</td>\n",
              "      <td>0.516904</td>\n",
              "    </tr>\n",
              "    <tr>\n",
              "      <th>sepal_width</th>\n",
              "      <td>-0.039268</td>\n",
              "      <td>0.188004</td>\n",
              "      <td>-0.321713</td>\n",
              "      <td>-0.117981</td>\n",
              "    </tr>\n",
              "    <tr>\n",
              "      <th>petal_length</th>\n",
              "      <td>1.273682</td>\n",
              "      <td>-0.321713</td>\n",
              "      <td>3.113179</td>\n",
              "      <td>1.296387</td>\n",
              "    </tr>\n",
              "    <tr>\n",
              "      <th>petal_width</th>\n",
              "      <td>0.516904</td>\n",
              "      <td>-0.117981</td>\n",
              "      <td>1.296387</td>\n",
              "      <td>0.582414</td>\n",
              "    </tr>\n",
              "  </tbody>\n",
              "</table>\n",
              "</div>\n",
              "    <div class=\"colab-df-buttons\">\n",
              "\n",
              "  <div class=\"colab-df-container\">\n",
              "    <button class=\"colab-df-convert\" onclick=\"convertToInteractive('df-8131ff45-24b8-4508-b722-7ebc781069c5')\"\n",
              "            title=\"Convert this dataframe to an interactive table.\"\n",
              "            style=\"display:none;\">\n",
              "\n",
              "  <svg xmlns=\"http://www.w3.org/2000/svg\" height=\"24px\" viewBox=\"0 -960 960 960\">\n",
              "    <path d=\"M120-120v-720h720v720H120Zm60-500h600v-160H180v160Zm220 220h160v-160H400v160Zm0 220h160v-160H400v160ZM180-400h160v-160H180v160Zm440 0h160v-160H620v160ZM180-180h160v-160H180v160Zm440 0h160v-160H620v160Z\"/>\n",
              "  </svg>\n",
              "    </button>\n",
              "\n",
              "  <style>\n",
              "    .colab-df-container {\n",
              "      display:flex;\n",
              "      gap: 12px;\n",
              "    }\n",
              "\n",
              "    .colab-df-convert {\n",
              "      background-color: #E8F0FE;\n",
              "      border: none;\n",
              "      border-radius: 50%;\n",
              "      cursor: pointer;\n",
              "      display: none;\n",
              "      fill: #1967D2;\n",
              "      height: 32px;\n",
              "      padding: 0 0 0 0;\n",
              "      width: 32px;\n",
              "    }\n",
              "\n",
              "    .colab-df-convert:hover {\n",
              "      background-color: #E2EBFA;\n",
              "      box-shadow: 0px 1px 2px rgba(60, 64, 67, 0.3), 0px 1px 3px 1px rgba(60, 64, 67, 0.15);\n",
              "      fill: #174EA6;\n",
              "    }\n",
              "\n",
              "    .colab-df-buttons div {\n",
              "      margin-bottom: 4px;\n",
              "    }\n",
              "\n",
              "    [theme=dark] .colab-df-convert {\n",
              "      background-color: #3B4455;\n",
              "      fill: #D2E3FC;\n",
              "    }\n",
              "\n",
              "    [theme=dark] .colab-df-convert:hover {\n",
              "      background-color: #434B5C;\n",
              "      box-shadow: 0px 1px 3px 1px rgba(0, 0, 0, 0.15);\n",
              "      filter: drop-shadow(0px 1px 2px rgba(0, 0, 0, 0.3));\n",
              "      fill: #FFFFFF;\n",
              "    }\n",
              "  </style>\n",
              "\n",
              "    <script>\n",
              "      const buttonEl =\n",
              "        document.querySelector('#df-8131ff45-24b8-4508-b722-7ebc781069c5 button.colab-df-convert');\n",
              "      buttonEl.style.display =\n",
              "        google.colab.kernel.accessAllowed ? 'block' : 'none';\n",
              "\n",
              "      async function convertToInteractive(key) {\n",
              "        const element = document.querySelector('#df-8131ff45-24b8-4508-b722-7ebc781069c5');\n",
              "        const dataTable =\n",
              "          await google.colab.kernel.invokeFunction('convertToInteractive',\n",
              "                                                    [key], {});\n",
              "        if (!dataTable) return;\n",
              "\n",
              "        const docLinkHtml = 'Like what you see? Visit the ' +\n",
              "          '<a target=\"_blank\" href=https://colab.research.google.com/notebooks/data_table.ipynb>data table notebook</a>'\n",
              "          + ' to learn more about interactive tables.';\n",
              "        element.innerHTML = '';\n",
              "        dataTable['output_type'] = 'display_data';\n",
              "        await google.colab.output.renderOutput(dataTable, element);\n",
              "        const docLink = document.createElement('div');\n",
              "        docLink.innerHTML = docLinkHtml;\n",
              "        element.appendChild(docLink);\n",
              "      }\n",
              "    </script>\n",
              "  </div>\n",
              "\n",
              "\n",
              "<div id=\"df-15f143f9-944d-4317-bb45-9982d83cf3d2\">\n",
              "  <button class=\"colab-df-quickchart\" onclick=\"quickchart('df-15f143f9-944d-4317-bb45-9982d83cf3d2')\"\n",
              "            title=\"Suggest charts.\"\n",
              "            style=\"display:none;\">\n",
              "\n",
              "<svg xmlns=\"http://www.w3.org/2000/svg\" height=\"24px\"viewBox=\"0 0 24 24\"\n",
              "     width=\"24px\">\n",
              "    <g>\n",
              "        <path d=\"M19 3H5c-1.1 0-2 .9-2 2v14c0 1.1.9 2 2 2h14c1.1 0 2-.9 2-2V5c0-1.1-.9-2-2-2zM9 17H7v-7h2v7zm4 0h-2V7h2v10zm4 0h-2v-4h2v4z\"/>\n",
              "    </g>\n",
              "</svg>\n",
              "  </button>\n",
              "\n",
              "<style>\n",
              "  .colab-df-quickchart {\n",
              "    background-color: #E8F0FE;\n",
              "    border: none;\n",
              "    border-radius: 50%;\n",
              "    cursor: pointer;\n",
              "    display: none;\n",
              "    fill: #1967D2;\n",
              "    height: 32px;\n",
              "    padding: 0 0 0 0;\n",
              "    width: 32px;\n",
              "  }\n",
              "\n",
              "  .colab-df-quickchart:hover {\n",
              "    background-color: #E2EBFA;\n",
              "    box-shadow: 0px 1px 2px rgba(60, 64, 67, 0.3), 0px 1px 3px 1px rgba(60, 64, 67, 0.15);\n",
              "    fill: #174EA6;\n",
              "  }\n",
              "\n",
              "  [theme=dark] .colab-df-quickchart {\n",
              "    background-color: #3B4455;\n",
              "    fill: #D2E3FC;\n",
              "  }\n",
              "\n",
              "  [theme=dark] .colab-df-quickchart:hover {\n",
              "    background-color: #434B5C;\n",
              "    box-shadow: 0px 1px 3px 1px rgba(0, 0, 0, 0.15);\n",
              "    filter: drop-shadow(0px 1px 2px rgba(0, 0, 0, 0.3));\n",
              "    fill: #FFFFFF;\n",
              "  }\n",
              "</style>\n",
              "\n",
              "  <script>\n",
              "    async function quickchart(key) {\n",
              "      const charts = await google.colab.kernel.invokeFunction(\n",
              "          'suggestCharts', [key], {});\n",
              "    }\n",
              "    (() => {\n",
              "      let quickchartButtonEl =\n",
              "        document.querySelector('#df-15f143f9-944d-4317-bb45-9982d83cf3d2 button');\n",
              "      quickchartButtonEl.style.display =\n",
              "        google.colab.kernel.accessAllowed ? 'block' : 'none';\n",
              "    })();\n",
              "  </script>\n",
              "</div>\n",
              "    </div>\n",
              "  </div>\n"
            ]
          },
          "metadata": {},
          "execution_count": 46
        }
      ]
    },
    {
      "cell_type": "markdown",
      "source": [],
      "metadata": {
        "id": "8qcKAT6cgfKS"
      }
    },
    {
      "cell_type": "code",
      "source": [
        "#Covariance between sepal_length and sepal_width\n",
        "\n",
        "x= iris['sepal_length']\n",
        "y= iris['sepal_width']\n",
        "print(\"covariance\", np.cov(x,y))\n",
        "\n",
        "\n",
        "#b. Pearson Correlation between sepal_length and sepal_width\n",
        "print(\"Pearson Correlation\")\n",
        "print(stats.pearsonr(x, y))\n",
        "\n",
        "#c. Spearman Correlation between sepal_length and sepal_width\n",
        "print(\"Spearman Correlation\")\n",
        "print(stats.spearmanr(x,y))\n"
      ],
      "metadata": {
        "colab": {
          "base_uri": "https://localhost:8080/"
        },
        "id": "Pi4OO_LE20Z1",
        "outputId": "4e75709d-8278-41e3-c931-e16e2c9f6a12"
      },
      "execution_count": null,
      "outputs": [
        {
          "output_type": "stream",
          "name": "stdout",
          "text": [
            "covariance [[ 0.68569351 -0.03926846]\n",
            " [-0.03926846  0.18800403]]\n",
            "Pearson Correlation\n",
            "PearsonRResult(statistic=-0.10936924995064937, pvalue=0.18276521527136963)\n",
            "Spearman Correlation\n",
            "SignificanceResult(statistic=-0.15945651848582867, pvalue=0.05128491483834292)\n"
          ]
        }
      ]
    },
    {
      "cell_type": "markdown",
      "source": [
        "Generate exponential distribution in Python using scipy library using rate=25 and\n",
        "sample size=100.\n",
        "a. Plot a histogram of the the above distribution\n",
        "b. Calculate probability that x is less than 50 when the mean rate is 25"
      ],
      "metadata": {
        "id": "K-2wpU8_8Dsr"
      }
    },
    {
      "cell_type": "code",
      "source": [
        "import numpy as np\n",
        "from scipy.stats import expon\n",
        "import matplotlib.pyplot as plt\n",
        "\n",
        "#generate exponential distribution with sample size 10000\n",
        "x = expon.rvs(scale=25, size=100)\n",
        "\n",
        "#create plot of exponential distribution\n",
        "plt.hist(x, density=True, edgecolor='black')\n",
        "\n",
        "\n",
        "#calculate probability that x is less than 50 when mean rate is 25\n",
        "prob = expon.cdf(x=50, scale=25)\n",
        "print(\"prob-->\", prob)\n"
      ],
      "metadata": {
        "colab": {
          "base_uri": "https://localhost:8080/",
          "height": 448
        },
        "id": "gva6fDhW8F9u",
        "outputId": "eb60c38e-6405-42ef-d60f-3d79a4c293b3"
      },
      "execution_count": null,
      "outputs": [
        {
          "output_type": "stream",
          "name": "stdout",
          "text": [
            "prob--> 0.8646647167633873\n"
          ]
        },
        {
          "output_type": "display_data",
          "data": {
            "text/plain": [
              "<Figure size 640x480 with 1 Axes>"
            ],
            "image/png": "[encoded data removed]"
          },
          "metadata": {}
        }
      ]
    },
    {
      "cell_type": "markdown",
      "source": [
        "Steve has just learnt about linear regression and MLE and is trying to find out the\n",
        "relationship between them. He uses the following dataset to learn the relation\n",
        "between humidity and temperature\n",
        "Dataset\n",
        "\n",
        "a. Prepare a sample of the dataset and calculate correlation between humidity\n",
        "and temperature\n",
        "\n",
        "b. Use minimise function from scipy to get the optimal parameters\n",
        "\n",
        "i. You can use np.array([2, 2, 2]) to initialise the parameters\n",
        "\n",
        "c. Try out following methods to estimate the parameters(optional)\n",
        "  i.Use statsmodels to fit a linear regression model using OLS\n",
        "  ii. Compare the parameters obtained in b & c. What did you observe?"
      ],
      "metadata": {
        "id": "iQHTLcc1daAx"
      }
    },
    {
      "cell_type": "code",
      "source": [
        "import pandas as pd\n",
        "import matplotlib.pyplot as plt\n",
        "from sklearn import preprocessing\n",
        "import seaborn as sns\n",
        "from scipy.optimize import minimize\n",
        "import statsmodels.api as sm\n",
        "\n",
        "data = pd.read_csv(\"/content/sample_data/weatherHistory.csv\")\n",
        "data.head()\n",
        "\n",
        "humidity = data['Humidity']\n",
        "temperature = data['Temperature (C)']\n",
        "\n",
        "corr = np.cov(humidity,temperature)\n",
        "print(corr)\n",
        "\n",
        "# objective function\n",
        "def f(x):\n",
        " return x[0]**2.0 + x[1]**2.0\n",
        "\n",
        "param = np.array([2, 2, 2])\n",
        "res = minimize(f,param, method='L-BFGS-B')\n",
        "\n",
        "print(res)\n",
        "\n",
        "mod = sm.OLS(humidity,temperature)\n",
        "res = mod.fit()\n",
        "print(\"======\")\n",
        "\n",
        "print(res.summary())\n",
        "\n",
        "\n",
        "\n"
      ],
      "metadata": {
        "colab": {
          "base_uri": "https://localhost:8080/"
        },
        "id": "UnYkNTneQNZ5",
        "outputId": "ab60d352-b361-4bf6-925f-1631ced6c552"
      },
      "execution_count": null,
      "outputs": [
        {
          "output_type": "stream",
          "name": "stdout",
          "text": [
            "[[ 3.82095917e-02 -1.18046179e+00]\n",
            " [-1.18046179e+00  9.12320371e+01]]\n",
            "  message: CONVERGENCE: NORM_OF_PROJECTED_GRADIENT_<=_PGTOL\n",
            "  success: True\n",
            "   status: 0\n",
            "      fun: 2.2554721865707593e-16\n",
            "        x: [-1.062e-08 -1.062e-08  2.000e+00]\n",
            "      nit: 2\n",
            "      jac: [-1.124e-08 -1.124e-08  0.000e+00]\n",
            "     nfev: 12\n",
            "     njev: 3\n",
            " hess_inv: <3x3 LbfgsInvHessProduct with dtype=float64>\n",
            "======\n",
            "                                 OLS Regression Results                                \n",
            "=======================================================================================\n",
            "Dep. Variable:               Humidity   R-squared (uncentered):                   0.426\n",
            "Model:                            OLS   Adj. R-squared (uncentered):              0.426\n",
            "Method:                 Least Squares   F-statistic:                          7.167e+04\n",
            "Date:                Tue, 22 Aug 2023   Prob (F-statistic):                        0.00\n",
            "Time:                        22:55:08   Log-Likelihood:                         -83652.\n",
            "No. Observations:               96453   AIC:                                  1.673e+05\n",
            "Df Residuals:                   96452   BIC:                                  1.673e+05\n",
            "Df Model:                           1                                                  \n",
            "Covariance Type:            nonrobust                                                  \n",
            "===================================================================================\n",
            "                      coef    std err          t      P>|t|      [0.025      0.975]\n",
            "-----------------------------------------------------------------------------------\n",
            "Temperature (C)     0.0325      0.000    267.706      0.000       0.032       0.033\n",
            "==============================================================================\n",
            "Omnibus:                     4765.746   Durbin-Watson:                   0.033\n",
            "Prob(Omnibus):                  0.000   Jarque-Bera (JB):             4584.227\n",
            "Skew:                          -0.485   Prob(JB):                         0.00\n",
            "Kurtosis:                       2.554   Cond. No.                         1.00\n",
            "==============================================================================\n",
            "\n",
            "Notes:\n",
            "[1] R² is computed without centering (uncentered) since the model does not contain a constant.\n",
            "[2] Standard Errors assume that the covariance matrix of the errors is correctly specified.\n"
          ]
        }
      ]
    }
  ]
}