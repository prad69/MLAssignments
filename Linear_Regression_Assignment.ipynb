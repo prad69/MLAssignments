{
  "nbformat": 4,
  "nbformat_minor": 0,
  "metadata": {
    "colab": {
      "provenance": [],
      "authorship_tag": "ABX9TyMYkPbj2CyRlhjIEUxw1kqb",
      "include_colab_link": true
    },
    "kernelspec": {
      "name": "python3",
      "display_name": "Python 3"
    },
    "language_info": {
      "name": "python"
    }
  },
  "cells": [
    {
      "cell_type": "markdown",
      "metadata": {
        "id": "view-in-github",
        "colab_type": "text"
      },
      "source": [
        "<a href=\"https://colab.research.google.com/github/prad69/MLAssignments/blob/main/Linear_Regression_Assignment.ipynb\" target=\"_parent\"><img src=\"https://colab.research.google.com/assets/colab-badge.svg\" alt=\"Open In Colab\"/></a>"
      ]
    },
    {
      "cell_type": "code",
      "execution_count": null,
      "metadata": {
        "id": "QqBbMMB6T7EA"
      },
      "outputs": [],
      "source": []
    },
    {
      "cell_type": "markdown",
      "source": [],
      "metadata": {
        "id": "ZSm28qwzUPVs"
      }
    },
    {
      "cell_type": "markdown",
      "source": [
        " Write a Python function that takes a matrix A and an integer k as input and returns the top k principal components of A using PCA.\n",
        "\n",
        "\n",
        "Write a Python function that takes a matrix A as input and returns its singular value decomposition (SVD).\n",
        "\n",
        "\n",
        "Write a Python code to derive simple linear regressions best-fit line in python"
      ],
      "metadata": {
        "id": "dv9LQpOfUOXt"
      }
    },
    {
      "cell_type": "code",
      "source": [
        "#Write a Python function that takes a matrix A and an integer k as input and returns the top k principal components of A using PCA.\n",
        "\n",
        "import numpy as np\n",
        "import pandas as pd\n",
        "from sklearn import datasets\n",
        "from sklearn.decomposition import PCA\n",
        "from sklearn.preprocessing import StandardScaler\n",
        "import matplotlib.pyplot as plt\n",
        "%matplotlib inline\n",
        "\n",
        "def topKPrinciplaComponents(X ,k) :\n",
        "  pca = PCA(n_components = None)\n",
        "  x_PCA = pca.fit(X)\n",
        "  return x_PCA\n",
        "\n",
        "\n",
        "def pca(C,K) :\n",
        "  eigen_vals , eigen_vecs = eigen_decomp(np.cov(C.T))\n",
        "  idx = eigen_vals.argsort()[::-1]\n",
        "  eigen_vals = eigen_vals[idx]\n",
        "  eigen_vecs = eigen_vecs[:,idx]\n",
        "  principal_components = eigen_vecs[:,:k]\n",
        "  transformed = C.do(principal_components)\n",
        "  return transformed\n",
        "\n",
        "c= np.array([[1,2,4],[2,3,5],[4,6,7]])\n",
        "print (c)\n",
        "v = topKPrinciplaComponents(c,2)\n",
        "v.explained_variance_ratio_"
      ],
      "metadata": {
        "colab": {
          "base_uri": "https://localhost:8080/"
        },
        "id": "PONAU-vYp18y",
        "outputId": "50da41a2-c8d6-41ea-ef1e-e814099f297c"
      },
      "execution_count": 3,
      "outputs": [
        {
          "output_type": "stream",
          "name": "stdout",
          "text": [
            "[[1 2 4]\n",
            " [2 3 5]\n",
            " [4 6 7]]\n"
          ]
        },
        {
          "output_type": "execute_result",
          "data": {
            "text/plain": [
              "array([9.97938136e-01, 2.06186445e-03, 9.73961368e-33])"
            ]
          },
          "metadata": {},
          "execution_count": 3
        }
      ]
    },
    {
      "cell_type": "code",
      "source": [
        "#Write a Python function that takes a matrix A as input and returns its singular value decomposition (SVD).\n",
        "\n",
        "\n",
        "def svd(A):\n",
        "  u, s, v = np.linalg.svd(A)\n",
        "  return u,s,v\n",
        "\n",
        "c=np.array([[1,2,4],[2,3,5],[4,6,7]])\n",
        "\n",
        "svd(c)"
      ],
      "metadata": {
        "colab": {
          "base_uri": "https://localhost:8080/"
        },
        "id": "TjDvEpTetmgm",
        "outputId": "f238f6f1-721a-4c4e-a761-7ed6bd26c35e"
      },
      "execution_count": 5,
      "outputs": [
        {
          "output_type": "execute_result",
          "data": {
            "text/plain": [
              "(array([[-0.35572904, -0.71073018, -0.60689328],\n",
              "        [-0.48813478, -0.41246406,  0.76915397],\n",
              "        [-0.79698261,  0.56985613, -0.20020668]]),\n",
              " array([12.56981961,  1.40382724,  0.1700116 ]),\n",
              " array([[-0.35958583, -0.55352887, -0.75120158],\n",
              "        [ 0.5298132 ,  0.54157961, -0.65267871],\n",
              "        [ 0.76811197, -0.63269053,  0.09852255]]))"
            ]
          },
          "metadata": {},
          "execution_count": 5
        }
      ]
    },
    {
      "cell_type": "code",
      "source": [
        "#Write a Python code to derive simple linear regressions best-fit line in python\n",
        "\n",
        "import numpy as np\n",
        "\n",
        "def simple_linear_regression(x, y):\n",
        "    n = len(x)\n",
        "    x_mean = np.mean(x)\n",
        "    y_mean = np.mean(y)\n",
        "\n",
        "    # Calculate the slope (beta_1) and intercept (beta_0)\n",
        "    beta_1 = sum((x_i - x_mean)*(y_i - y_mean) for x_i, y_i in zip(x,y))/sum((x_i - x_mean)**2 for x_i in x)\n",
        "    beta_0 = y_mean - beta_1*x_mean\n",
        "\n",
        "    return beta_0, beta_1\n",
        "\n",
        "# Example usage\n",
        "x = np.array([1, 2, 3, 4, 5])\n",
        "y = np.array([2, 4, 5, 4, 5])\n",
        "beta_0, beta_1 = simple_linear_regression(x, y)\n",
        "print(\"Intercept (beta_0):\", beta_0)\n",
        "print(\"Slope (beta_1):\", beta_1)"
      ],
      "metadata": {
        "id": "EMjxUn4NwHUr",
        "colab": {
          "base_uri": "https://localhost:8080/"
        },
        "outputId": "81d7676a-9dce-4aee-ded8-de8ad6161344"
      },
      "execution_count": 6,
      "outputs": [
        {
          "output_type": "stream",
          "name": "stdout",
          "text": [
            "Intercept (beta_0): 2.2\n",
            "Slope (beta_1): 0.6\n"
          ]
        }
      ]
    }
  ]
}